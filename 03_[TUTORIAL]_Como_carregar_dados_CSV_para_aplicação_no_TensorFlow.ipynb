{
  "nbformat": 4,
  "nbformat_minor": 0,
  "metadata": {
    "colab": {
      "provenance": [],
      "authorship_tag": "ABX9TyP/BYHYKVoU9wfkUFO5tEh7",
      "include_colab_link": true
    },
    "kernelspec": {
      "name": "python3",
      "display_name": "Python 3"
    },
    "language_info": {
      "name": "python"
    }
  },
  "cells": [
    {
      "cell_type": "markdown",
      "metadata": {
        "id": "view-in-github",
        "colab_type": "text"
      },
      "source": [
        "<a href=\"https://colab.research.google.com/github/FGalvao77/-TUTORIAL---TensorFlow/blob/main/03_%5BTUTORIAL%5D_Como_carregar_dados_CSV_para_aplica%C3%A7%C3%A3o_no_TensorFlow.ipynb\" target=\"_parent\"><img src=\"https://colab.research.google.com/assets/colab-badge.svg\" alt=\"Open In Colab\"/></a>"
      ]
    },
    {
      "cell_type": "markdown",
      "source": [
        "### **03 - [TUTORIAL] Como carregar dados `CSV` para aplicação no _TensorFlow_**\n",
        "---\n",
        "---\n",
        "\n",
        "<br>\n",
        "\n",
        "Este tutorial fornece um exemplo de como carregar dados CSV de um arquivo em um `tf.data.Dataset`.\n",
        "\n",
        "Os dados usados neste tutorial foram retirados da lista de passageiros do **Titanic88. O modelo preverá a probabilidade de sobrevivência de um passageiro com base em características como idade, sexo, classe de passagem e se a pessoa estava viajando sozinha.\n",
        "\n",
        "Material base de consulta e orientação:\n",
        "- https://www.tensorflow.org/tutorials/load_data/csv?hl=pt-br\n",
        "\n",
        "<br>"
      ],
      "metadata": {
        "id": "xiV-4BQTn8uo"
      }
    },
    {
      "cell_type": "markdown",
      "source": [
        "#### **1. Setup**"
      ],
      "metadata": {
        "id": "CCUQbdDSoE9x"
      }
    },
    {
      "cell_type": "code",
      "execution_count": 1,
      "metadata": {
        "colab": {
          "base_uri": "https://localhost:8080/"
        },
        "id": "nV2m5B4BnrAL",
        "outputId": "1ebd7038-6e80-4c9c-a782-5dcb6096cfb3"
      },
      "outputs": [
        {
          "output_type": "stream",
          "name": "stdout",
          "text": [
            "Colab only includes TensorFlow 2.x; %tensorflow_version has no effect.\n"
          ]
        }
      ],
      "source": [
        "try:\n",
        "    # %tensorflow_version only exists in Colab\n",
        "    %tensorflow_version 2.x\n",
        "except Exception:\n",
        "    pass"
      ]
    },
    {
      "cell_type": "code",
      "source": [
        "from __future__ import absolute_import, division, print_function, unicode_literals\n",
        "import functools\n",
        "\n",
        "import numpy as np\n",
        "import tensorflow as tf"
      ],
      "metadata": {
        "id": "X4WGdCLQn3B_"
      },
      "execution_count": 2,
      "outputs": []
    },
    {
      "cell_type": "code",
      "source": [
        "print(\n",
        "    '[VERSION] -',\n",
        "    f'NumPy: {np.__version__} |',\n",
        "    f'TensorFlow: {tf.__version__}'\n",
        ")"
      ],
      "metadata": {
        "colab": {
          "base_uri": "https://localhost:8080/"
        },
        "id": "QNdMeF9on2_L",
        "outputId": "beaeaa38-e845-44ae-bfdf-98a17bc3bb0f"
      },
      "execution_count": 3,
      "outputs": [
        {
          "output_type": "stream",
          "name": "stdout",
          "text": [
            "[VERSION] - NumPy: 1.21.6 | TensorFlow: 2.11.0\n"
          ]
        }
      ]
    },
    {
      "cell_type": "code",
      "source": [
        "TRAIN_DATA_URL = 'https://storage.googleapis.com/tf-datasets/titanic/train.csv'\n",
        "\n",
        "TEST_DATA_URL = 'https://storage.googleapis.com/tf-datasets/titanic/eval.csv'"
      ],
      "metadata": {
        "id": "R_XbiL_lp0di"
      },
      "execution_count": 4,
      "outputs": []
    },
    {
      "cell_type": "code",
      "source": [
        "train_file_path = tf.keras.utils.get_file('train.csv', TRAIN_DATA_URL)\n",
        "\n",
        "test_file_path = tf.keras.utils.get_file('eval.csv', TEST_DATA_URL)"
      ],
      "metadata": {
        "id": "ykc9H_zyn29G",
        "colab": {
          "base_uri": "https://localhost:8080/"
        },
        "outputId": "8c5c0f2e-7381-48b5-9437-6d9f643d6769"
      },
      "execution_count": 5,
      "outputs": [
        {
          "output_type": "stream",
          "name": "stdout",
          "text": [
            "Downloading data from https://storage.googleapis.com/tf-datasets/titanic/train.csv\n",
            "30874/30874 [==============================] - 0s 0us/step\n",
            "Downloading data from https://storage.googleapis.com/tf-datasets/titanic/eval.csv\n",
            "13049/13049 [==============================] - 0s 1us/step\n"
          ]
        }
      ]
    },
    {
      "cell_type": "code",
      "source": [
        "# setando o ambiente para facilitar a leitura de valores numpy\n",
        "np.set_printoptions(precision=3, suppress=True)"
      ],
      "metadata": {
        "id": "-so2fuUan26n"
      },
      "execution_count": 6,
      "outputs": []
    },
    {
      "cell_type": "markdown",
      "source": [
        "#### **2. Carregar dados**"
      ],
      "metadata": {
        "id": "yD7L7YgeqHHB"
      }
    },
    {
      "cell_type": "markdown",
      "source": [
        "Visualizando o conjunto de dados:\n",
        "- `head`: 10 primeiras observações e,\n",
        "- `tail`: 10 últimas observações."
      ],
      "metadata": {
        "id": "cF9k3SnowZN8"
      }
    },
    {
      "cell_type": "code",
      "source": [
        "!head {train_file_path}"
      ],
      "metadata": {
        "colab": {
          "base_uri": "https://localhost:8080/"
        },
        "id": "oT8D86zvp6WF",
        "outputId": "1c2bb647-9a41-497e-d5db-b5466915de1b"
      },
      "execution_count": 7,
      "outputs": [
        {
          "output_type": "stream",
          "name": "stdout",
          "text": [
            "survived,sex,age,n_siblings_spouses,parch,fare,class,deck,embark_town,alone\n",
            "0,male,22.0,1,0,7.25,Third,unknown,Southampton,n\n",
            "1,female,38.0,1,0,71.2833,First,C,Cherbourg,n\n",
            "1,female,26.0,0,0,7.925,Third,unknown,Southampton,y\n",
            "1,female,35.0,1,0,53.1,First,C,Southampton,n\n",
            "0,male,28.0,0,0,8.4583,Third,unknown,Queenstown,y\n",
            "0,male,2.0,3,1,21.075,Third,unknown,Southampton,n\n",
            "1,female,27.0,0,2,11.1333,Third,unknown,Southampton,n\n",
            "1,female,14.0,1,0,30.0708,Second,unknown,Cherbourg,n\n",
            "1,female,4.0,1,1,16.7,Third,G,Southampton,n\n"
          ]
        }
      ]
    },
    {
      "cell_type": "code",
      "source": [
        "!tail {train_file_path}"
      ],
      "metadata": {
        "colab": {
          "base_uri": "https://localhost:8080/"
        },
        "id": "byuHzZf-w4HS",
        "outputId": "e52e59c9-8b81-4243-8672-b61b984f6b03"
      },
      "execution_count": 8,
      "outputs": [
        {
          "output_type": "stream",
          "name": "stdout",
          "text": [
            "1,female,15.0,0,0,7.225,Third,unknown,Cherbourg,y\n",
            "0,male,20.0,0,0,9.8458,Third,unknown,Southampton,y\n",
            "0,male,19.0,0,0,7.8958,Third,unknown,Southampton,y\n",
            "0,male,28.0,0,0,7.8958,Third,unknown,Southampton,y\n",
            "0,female,22.0,0,0,10.5167,Third,unknown,Southampton,y\n",
            "0,male,28.0,0,0,10.5,Second,unknown,Southampton,y\n",
            "0,male,25.0,0,0,7.05,Third,unknown,Southampton,y\n",
            "1,female,19.0,0,0,30.0,First,B,Southampton,y\n",
            "0,female,28.0,1,2,23.45,Third,unknown,Southampton,n\n",
            "0,male,32.0,0,0,7.75,Third,unknown,Queenstown,y\n"
          ]
        }
      ]
    },
    {
      "cell_type": "markdown",
      "source": [
        "Você pode carregar isso usando pandas e passar as matrizes NumPy para o TensorFlow. Se você precisar escalar até um grande conjunto de arquivos ou precisar de um carregador que se integre ao TensorFlow e tf.data, use o `tf.data.experimental.make_csv_dataset`:\n",
        "\n",
        "A única coluna que você precisa identificar explicitamente é aquela com o valor que o modelo pretende prever."
      ],
      "metadata": {
        "id": "0yrAsWNtGkjm"
      }
    },
    {
      "cell_type": "code",
      "source": [
        "# instanciando a coluna dependente\n",
        "LABEL_COLUMN = 'survived'\n",
        "\n",
        "# instanciando o valor do rótulo\n",
        "LABELS = [0, 1] # 0: não | 1: sim"
      ],
      "metadata": {
        "id": "W_ERO_vop6Sc"
      },
      "execution_count": 9,
      "outputs": []
    },
    {
      "cell_type": "code",
      "source": [
        "# ?tf.data.experimental.make_csv_dataset"
      ],
      "metadata": {
        "id": "ktrLjtM-20Lx"
      },
      "execution_count": 10,
      "outputs": []
    },
    {
      "cell_type": "code",
      "source": [
        "def get_dataset(file_path:str, **kwargs) -> str:\n",
        "    dataset = tf.data.experimental.make_csv_dataset(\n",
        "        file_pattern=file_path,\n",
        "        batch_size=100, # utilizando somente 100 observações para análise\n",
        "        label_name=LABEL_COLUMN,\n",
        "        na_value='?',\n",
        "        num_epochs=1,\n",
        "        ignore_errors=True,\n",
        "        encoding='utf-8',\n",
        "        **kwargs\n",
        "    )\n",
        "\n",
        "    return dataset"
      ],
      "metadata": {
        "id": "UMir4VH2p6Rj"
      },
      "execution_count": 11,
      "outputs": []
    },
    {
      "cell_type": "code",
      "source": [
        "raw_train_data = get_dataset(train_file_path)\n",
        "\n",
        "raw_test_data = get_dataset(test_file_path)"
      ],
      "metadata": {
        "id": "i9bpjx-Op6QE",
        "colab": {
          "base_uri": "https://localhost:8080/"
        },
        "outputId": "64e045dd-be58-4ff8-8358-6c109b19fa0f"
      },
      "execution_count": 12,
      "outputs": [
        {
          "output_type": "stream",
          "name": "stderr",
          "text": [
            "WARNING:tensorflow:From /usr/local/lib/python3.8/dist-packages/tensorflow/python/data/experimental/ops/readers.py:572: ignore_errors (from tensorflow.python.data.experimental.ops.error_ops) is deprecated and will be removed in a future version.\n",
            "Instructions for updating:\n",
            "Use `tf.data.Dataset.ignore_errors` instead.\n"
          ]
        }
      ]
    },
    {
      "cell_type": "code",
      "source": [
        "raw_train_data"
      ],
      "metadata": {
        "colab": {
          "base_uri": "https://localhost:8080/"
        },
        "id": "bzJLmf3fp6Jv",
        "outputId": "4d3cea89-0779-490d-aa04-b63cfe69b22e"
      },
      "execution_count": 13,
      "outputs": [
        {
          "output_type": "execute_result",
          "data": {
            "text/plain": [
              "<PrefetchDataset element_spec=(OrderedDict([('sex', TensorSpec(shape=(None,), dtype=tf.string, name=None)), ('age', TensorSpec(shape=(None,), dtype=tf.float32, name=None)), ('n_siblings_spouses', TensorSpec(shape=(None,), dtype=tf.int32, name=None)), ('parch', TensorSpec(shape=(None,), dtype=tf.int32, name=None)), ('fare', TensorSpec(shape=(None,), dtype=tf.float32, name=None)), ('class', TensorSpec(shape=(None,), dtype=tf.string, name=None)), ('deck', TensorSpec(shape=(None,), dtype=tf.string, name=None)), ('embark_town', TensorSpec(shape=(None,), dtype=tf.string, name=None)), ('alone', TensorSpec(shape=(None,), dtype=tf.string, name=None))]), TensorSpec(shape=(None,), dtype=tf.int32, name=None))>"
            ]
          },
          "metadata": {},
          "execution_count": 13
        }
      ]
    },
    {
      "cell_type": "code",
      "source": [
        "raw_test_data"
      ],
      "metadata": {
        "colab": {
          "base_uri": "https://localhost:8080/"
        },
        "id": "TNC6_K2xyuqM",
        "outputId": "686736d1-999d-426b-c56e-bb19313ad859"
      },
      "execution_count": 14,
      "outputs": [
        {
          "output_type": "execute_result",
          "data": {
            "text/plain": [
              "<PrefetchDataset element_spec=(OrderedDict([('sex', TensorSpec(shape=(None,), dtype=tf.string, name=None)), ('age', TensorSpec(shape=(None,), dtype=tf.float32, name=None)), ('n_siblings_spouses', TensorSpec(shape=(None,), dtype=tf.int32, name=None)), ('parch', TensorSpec(shape=(None,), dtype=tf.int32, name=None)), ('fare', TensorSpec(shape=(None,), dtype=tf.float32, name=None)), ('class', TensorSpec(shape=(None,), dtype=tf.string, name=None)), ('deck', TensorSpec(shape=(None,), dtype=tf.string, name=None)), ('embark_town', TensorSpec(shape=(None,), dtype=tf.string, name=None)), ('alone', TensorSpec(shape=(None,), dtype=tf.string, name=None))]), TensorSpec(shape=(None,), dtype=tf.int32, name=None))>"
            ]
          },
          "metadata": {},
          "execution_count": 14
        }
      ]
    },
    {
      "cell_type": "code",
      "source": [
        "def show_batch(dataset:str) -> str:\n",
        "    for batch, label in dataset.take(1):\n",
        "        for key, value in batch.items():\n",
        "            print('{:20s}: {}'.format(key, value.numpy()))"
      ],
      "metadata": {
        "id": "2uzdH-vZp6H9"
      },
      "execution_count": 15,
      "outputs": []
    },
    {
      "cell_type": "markdown",
      "source": [
        "Cada item do conjunto de dados é um lote, representado como uma tupla de (* muitos exemplos *, * muitos rótulos *). Os dados dos exemplos são organizados em tensores baseados em colunas (em vez de tensores baseados em linhas), cada um com tantos elementos quanto o tamanho do lote (5 neste caso).\n",
        "\n",
        "Pode ajudar a ver isso por si mesmo."
      ],
      "metadata": {
        "id": "NBAZlgDlHIEp"
      }
    },
    {
      "cell_type": "code",
      "source": [
        "show_batch(dataset=raw_train_data)"
      ],
      "metadata": {
        "colab": {
          "base_uri": "https://localhost:8080/"
        },
        "id": "2st9fMQip6Ec",
        "outputId": "0ae9fead-094d-4ff2-873c-186676421138"
      },
      "execution_count": 16,
      "outputs": [
        {
          "output_type": "stream",
          "name": "stdout",
          "text": [
            "sex                 : [b'female' b'male' b'female' b'male' b'male' b'female' b'female' b'male'\n",
            " b'female' b'male' b'female' b'male' b'male' b'female' b'female' b'male'\n",
            " b'female' b'male' b'male' b'male' b'male' b'female' b'male' b'female'\n",
            " b'male' b'female' b'female' b'female' b'male' b'male' b'female' b'male'\n",
            " b'female' b'male' b'male' b'male' b'male' b'male' b'male' b'female'\n",
            " b'male' b'male' b'male' b'male' b'male' b'male' b'male' b'male' b'female'\n",
            " b'male' b'male' b'female' b'female' b'male' b'male' b'female' b'male'\n",
            " b'male' b'male' b'male' b'male' b'male' b'female' b'male' b'male'\n",
            " b'female' b'male' b'female' b'male' b'male' b'male' b'male' b'male'\n",
            " b'male' b'female' b'female' b'male' b'male' b'male' b'male' b'male'\n",
            " b'female' b'male' b'male' b'female' b'male' b'male' b'male' b'male'\n",
            " b'female' b'female' b'female' b'male' b'female' b'male' b'male' b'male'\n",
            " b'male' b'male' b'male']\n",
            "age                 : [60.  28.   4.  17.  20.  21.  30.  28.  52.  26.  23.  18.  45.  23.\n",
            " 24.  49.  28.  56.  46.  39.  28.  48.  34.  19.  36.  22.  40.  28.\n",
            " 28.  47.  14.  28.  17.  28.  27.  24.  21.  17.  28.  54.  18.  28.\n",
            " 40.  48.  23.  28.  52.  28.  28.  39.  28.  28.  28.  43.  29.  28.\n",
            " 51.  16.  70.5 22.  42.  30.5 28.  28.  20.  47.  60.  24.  40.  37.\n",
            " 30.   4.  28.  28.  22.   7.  33.   9.  30.  19.   1.  25.  65.  49.\n",
            " 28.  28.  33.  31.  29.  17.  50.  22.  28.  15.  28.  24.   9.  34.\n",
            " 44.  23. ]\n",
            "n_siblings_spouses  : [1 0 1 0 1 0 0 8 1 0 0 1 0 0 2 1 0 0 0 0 0 1 0 0 0 0 0 0 0 0 1 0 0 0 0 0 0\n",
            " 0 0 1 0 0 0 1 0 0 0 0 0 0 0 1 1 0 1 8 0 4 0 0 1 0 0 0 0 1 0 0 0 2 0 4 1 0\n",
            " 0 0 0 4 0 0 1 1 0 1 0 0 0 1 1 0 0 0 0 0 0 0 1 1 0 0]\n",
            "parch               : [0 0 1 0 1 0 0 2 0 0 0 0 0 0 3 1 0 0 0 0 0 2 0 0 0 1 0 0 0 0 0 0 0 0 0 0 0\n",
            " 0 0 0 0 0 0 0 0 0 0 0 0 0 0 0 0 0 0 2 0 1 0 0 0 0 0 0 0 0 0 0 0 0 0 2 1 0\n",
            " 0 2 0 2 0 0 2 0 0 0 0 0 0 1 0 0 1 2 0 0 0 0 1 1 0 0]\n",
            "fare                : [ 75.25    7.896  23.      7.125  15.742   7.75    8.663  69.55   78.267\n",
            "   7.775  13.792   6.496   6.975   7.55   18.75  110.883   7.75   26.55\n",
            "  79.2    13.      7.796  65.      6.496  30.     13.     55.    153.462\n",
            "   7.229   7.05    9.     30.071   8.05   14.458   8.663   7.896   7.496\n",
            "   7.925   8.663   7.896  59.4     7.796  30.5    27.721  52.     10.5\n",
            "   7.55   30.5    39.6     7.733   0.     26.55   89.104  15.5     8.05\n",
            "   7.046  69.55    8.05   39.688   7.75    7.796  27.      8.05    7.75\n",
            "   7.75    8.05   14.5    26.55   69.3    31.      7.925   7.896  31.275\n",
            "  15.246   8.05   10.517  26.25   12.275  31.388   7.225   0.     20.575\n",
            "   7.925  26.55   89.104   7.896  13.      9.5    37.004  66.6    12.\n",
            "  26.     49.5     8.113   7.225   7.312   7.896  15.9    14.4     7.925\n",
            "  15.046]\n",
            "class               : [b'First' b'Third' b'Second' b'Third' b'Third' b'Third' b'Third' b'Third'\n",
            " b'First' b'Third' b'Second' b'Third' b'Third' b'Third' b'Second' b'First'\n",
            " b'Third' b'First' b'First' b'Second' b'Third' b'Second' b'Third' b'First'\n",
            " b'Second' b'First' b'First' b'Third' b'Third' b'Third' b'Second' b'Third'\n",
            " b'Third' b'Third' b'Third' b'Third' b'Third' b'Third' b'Third' b'First'\n",
            " b'Third' b'First' b'First' b'First' b'Second' b'Third' b'First' b'First'\n",
            " b'Third' b'First' b'First' b'First' b'Third' b'Third' b'Third' b'Third'\n",
            " b'Third' b'Third' b'Third' b'Third' b'Second' b'Third' b'Third' b'Third'\n",
            " b'Third' b'Third' b'First' b'First' b'First' b'Third' b'Third' b'Third'\n",
            " b'Third' b'Third' b'Third' b'Second' b'Second' b'Third' b'Third' b'Third'\n",
            " b'Third' b'Third' b'First' b'First' b'Third' b'Second' b'Third' b'Second'\n",
            " b'First' b'Second' b'Second' b'First' b'Third' b'Third' b'Third' b'Third'\n",
            " b'Third' b'Third' b'Third' b'Second']\n",
            "deck                : [b'D' b'unknown' b'unknown' b'unknown' b'unknown' b'unknown' b'unknown'\n",
            " b'unknown' b'D' b'unknown' b'D' b'unknown' b'unknown' b'unknown'\n",
            " b'unknown' b'C' b'unknown' b'unknown' b'B' b'unknown' b'unknown'\n",
            " b'unknown' b'unknown' b'B' b'unknown' b'E' b'C' b'unknown' b'unknown'\n",
            " b'unknown' b'unknown' b'unknown' b'unknown' b'unknown' b'unknown'\n",
            " b'unknown' b'unknown' b'unknown' b'unknown' b'unknown' b'unknown' b'C'\n",
            " b'unknown' b'C' b'unknown' b'unknown' b'C' b'unknown' b'unknown' b'A'\n",
            " b'unknown' b'C' b'unknown' b'unknown' b'unknown' b'unknown' b'unknown'\n",
            " b'unknown' b'unknown' b'unknown' b'unknown' b'unknown' b'unknown'\n",
            " b'unknown' b'unknown' b'unknown' b'unknown' b'B' b'A' b'unknown'\n",
            " b'unknown' b'unknown' b'unknown' b'unknown' b'unknown' b'unknown'\n",
            " b'unknown' b'unknown' b'unknown' b'unknown' b'unknown' b'unknown' b'E'\n",
            " b'C' b'unknown' b'unknown' b'unknown' b'unknown' b'C' b'unknown'\n",
            " b'unknown' b'B' b'unknown' b'unknown' b'unknown' b'unknown' b'unknown'\n",
            " b'unknown' b'unknown' b'unknown']\n",
            "embark_town         : [b'Cherbourg' b'Southampton' b'Southampton' b'Southampton' b'Cherbourg'\n",
            " b'Queenstown' b'Southampton' b'Southampton' b'Cherbourg' b'Southampton'\n",
            " b'Cherbourg' b'Southampton' b'Southampton' b'Southampton' b'Southampton'\n",
            " b'Cherbourg' b'Queenstown' b'Southampton' b'Cherbourg' b'Southampton'\n",
            " b'Southampton' b'Southampton' b'Southampton' b'Southampton'\n",
            " b'Southampton' b'Southampton' b'Southampton' b'Cherbourg' b'Southampton'\n",
            " b'Southampton' b'Cherbourg' b'Southampton' b'Cherbourg' b'Southampton'\n",
            " b'Southampton' b'Southampton' b'Southampton' b'Southampton'\n",
            " b'Southampton' b'Cherbourg' b'Southampton' b'Southampton' b'Cherbourg'\n",
            " b'Southampton' b'Southampton' b'Southampton' b'Southampton' b'Cherbourg'\n",
            " b'Queenstown' b'Southampton' b'Southampton' b'Cherbourg' b'Queenstown'\n",
            " b'Southampton' b'Southampton' b'Southampton' b'Southampton'\n",
            " b'Southampton' b'Queenstown' b'Southampton' b'Southampton' b'Southampton'\n",
            " b'Queenstown' b'Queenstown' b'Southampton' b'Southampton' b'Southampton'\n",
            " b'Cherbourg' b'Cherbourg' b'Southampton' b'Southampton' b'Southampton'\n",
            " b'Cherbourg' b'Southampton' b'Southampton' b'Southampton' b'Southampton'\n",
            " b'Southampton' b'Cherbourg' b'Southampton' b'Southampton' b'Southampton'\n",
            " b'Southampton' b'Cherbourg' b'Southampton' b'Southampton' b'Southampton'\n",
            " b'Cherbourg' b'Southampton' b'Cherbourg' b'Southampton' b'Cherbourg'\n",
            " b'Southampton' b'Cherbourg' b'Southampton' b'Southampton' b'Southampton'\n",
            " b'Southampton' b'Southampton' b'Cherbourg']\n",
            "alone               : [b'n' b'y' b'n' b'y' b'n' b'y' b'y' b'n' b'n' b'y' b'y' b'n' b'y' b'y'\n",
            " b'n' b'n' b'y' b'y' b'y' b'y' b'y' b'n' b'y' b'y' b'y' b'n' b'y' b'y'\n",
            " b'y' b'y' b'n' b'y' b'y' b'y' b'y' b'y' b'y' b'y' b'y' b'n' b'y' b'y'\n",
            " b'y' b'n' b'y' b'y' b'y' b'y' b'y' b'y' b'y' b'n' b'n' b'y' b'n' b'n'\n",
            " b'y' b'n' b'y' b'y' b'n' b'y' b'y' b'y' b'y' b'n' b'y' b'y' b'y' b'n'\n",
            " b'y' b'n' b'n' b'y' b'y' b'n' b'y' b'n' b'y' b'y' b'n' b'n' b'y' b'n'\n",
            " b'y' b'y' b'y' b'n' b'n' b'y' b'n' b'n' b'y' b'y' b'y' b'y' b'n' b'n'\n",
            " b'y' b'y']\n"
          ]
        }
      ]
    },
    {
      "cell_type": "markdown",
      "source": [
        "Como você pode ver, as colunas no CSV são nomeadas. O construtor do conjunto de dados selecionará esses nomes automaticamente. Se o arquivo com o qual você está trabalhando não contém os nomes das colunas na primeira linha, passe-os em uma lista de strings para o argumento `column_names` na função `make_csv_dataset`."
      ],
      "metadata": {
        "id": "znPWXTzbHSho"
      }
    },
    {
      "cell_type": "code",
      "source": [
        "CSV_COLMUNS = ['survived', 'sex', 'age', 'n_siblings_spouses', 'parch', \n",
        "               'fare', 'class', 'deck', 'embark_town', 'alone']"
      ],
      "metadata": {
        "id": "TEO0s6lep6Bw"
      },
      "execution_count": 17,
      "outputs": []
    },
    {
      "cell_type": "code",
      "source": [
        "temp_dataset = get_dataset(\n",
        "    file_path=train_file_path,\n",
        "    column_names=CSV_COLMUNS\n",
        ")\n",
        "\n",
        "show_batch(dataset=temp_dataset)"
      ],
      "metadata": {
        "colab": {
          "base_uri": "https://localhost:8080/"
        },
        "id": "0DnrcZ_bn238",
        "outputId": "88003bb6-956e-4971-98ee-28c31b99f7d8"
      },
      "execution_count": 18,
      "outputs": [
        {
          "output_type": "stream",
          "name": "stdout",
          "text": [
            "sex                 : [b'male' b'female' b'male' b'female' b'male' b'male' b'male' b'male'\n",
            " b'male' b'male' b'male' b'male' b'male' b'male' b'female' b'female'\n",
            " b'female' b'male' b'male' b'male' b'male' b'male' b'female' b'male'\n",
            " b'female' b'male' b'male' b'female' b'male' b'female' b'female' b'male'\n",
            " b'male' b'male' b'male' b'male' b'male' b'female' b'female' b'male'\n",
            " b'male' b'male' b'male' b'female' b'female' b'female' b'female' b'male'\n",
            " b'female' b'male' b'male' b'female' b'male' b'female' b'female' b'male'\n",
            " b'female' b'male' b'female' b'male' b'male' b'male' b'female' b'male'\n",
            " b'male' b'male' b'male' b'male' b'male' b'male' b'male' b'male' b'male'\n",
            " b'female' b'female' b'male' b'male' b'male' b'male' b'male' b'male'\n",
            " b'male' b'female' b'male' b'male' b'male' b'male' b'male' b'male' b'male'\n",
            " b'female' b'male' b'male' b'female' b'male' b'male' b'male' b'female'\n",
            " b'male' b'female']\n",
            "age                 : [49.   48.   26.   28.   48.   28.   28.   28.   28.   16.   33.   28.\n",
            " 31.   28.   24.   24.   28.   34.   28.   30.   31.   23.   27.   28.\n",
            " 50.   28.   32.   42.   28.   29.   24.   32.   28.   25.   28.   34.\n",
            " 28.   24.   31.   28.   70.5  46.   28.   22.   36.   28.   28.   28.\n",
            " 28.   18.   26.   52.   46.    2.   32.   36.   14.   24.    0.75 28.\n",
            " 62.   34.5  31.   14.   18.   24.   25.   28.    2.   47.   30.   23.\n",
            " 36.   45.   42.   11.   17.   45.   25.   30.   40.   23.   28.   40.5\n",
            " 49.   19.   28.   22.   19.   27.   39.   28.   28.   30.   25.   36.\n",
            " 28.   26.    0.83 24.  ]\n",
            "n_siblings_spouses  : [1 1 0 3 0 0 8 0 0 0 0 0 1 0 1 0 0 0 0 0 0 0 0 0 0 0 0 1 8 1 2 0 0 0 0 0 0\n",
            " 0 1 0 0 1 0 0 0 1 8 0 1 0 0 1 0 0 1 1 1 0 2 1 0 0 1 5 1 1 1 0 4 0 0 0 1 0\n",
            " 0 0 0 0 0 0 0 0 1 0 1 0 0 0 3 0 1 0 1 0 0 0 0 0 0 0]\n",
            "parch               : [1 0 0 1 0 0 2 0 0 0 0 0 0 0 2 0 0 0 0 0 0 0 2 0 0 0 0 0 2 1 3 0 0 0 0 0 0\n",
            " 0 0 0 0 0 0 2 2 0 2 0 0 0 0 1 0 1 1 2 2 1 1 0 0 0 0 2 1 0 0 0 1 0 0 1 0 1\n",
            " 0 0 0 0 0 0 0 0 0 0 0 0 0 0 2 0 5 0 0 0 0 1 0 0 2 2]\n",
            "fare                : [110.883  39.6     7.896  25.467   7.854   7.896  69.55    7.75    7.75\n",
            "  10.5    12.275  35.5    57.     30.696  65.     49.504   7.787   8.05\n",
            "  15.5     7.896  13.      7.896  11.133   7.896  10.5     0.     10.5\n",
            "  26.     69.55   10.462  18.75    7.896   7.896  13.      8.05    8.05\n",
            "   7.796  13.    113.275   9.5     7.75   61.175  26.55   49.5    71.\n",
            "  24.15   69.55    7.896  16.1     7.775  10.5    93.5    26.     10.462\n",
            "  15.5   120.    120.    247.521  19.258  24.15   10.5     6.438  18.\n",
            "  46.9     7.854  16.1    17.8     8.05   39.688  34.021  27.75   63.358\n",
            "  78.85   14.454  13.     18.788   8.663  26.55   13.      7.229   7.896\n",
            "  10.5    82.171   7.75   89.104   7.896   7.896   7.125 263.     30.5\n",
            "  31.275   7.725  15.85   56.929   7.742 512.329   8.458   7.925  29.\n",
            "  16.7  ]\n",
            "class               : [b'First' b'First' b'Third' b'Third' b'Third' b'Third' b'Third' b'Third'\n",
            " b'Third' b'Second' b'Second' b'First' b'First' b'First' b'Second'\n",
            " b'First' b'Third' b'Third' b'Third' b'Third' b'Second' b'Third' b'Third'\n",
            " b'Third' b'Second' b'Second' b'Second' b'Second' b'Third' b'Third'\n",
            " b'Second' b'Third' b'Third' b'Second' b'Third' b'Third' b'Third'\n",
            " b'Second' b'First' b'Third' b'Third' b'First' b'First' b'First' b'First'\n",
            " b'Third' b'Third' b'Third' b'Third' b'Third' b'Second' b'First' b'Second'\n",
            " b'Third' b'Third' b'First' b'First' b'First' b'Third' b'Third' b'Second'\n",
            " b'Third' b'Third' b'Third' b'Third' b'Third' b'Third' b'Third' b'Third'\n",
            " b'First' b'First' b'First' b'First' b'Third' b'Second' b'Third' b'Third'\n",
            " b'First' b'Second' b'Third' b'Third' b'Second' b'First' b'Third' b'First'\n",
            " b'Third' b'Third' b'Third' b'First' b'First' b'Third' b'Third' b'Third'\n",
            " b'First' b'Third' b'First' b'Third' b'Third' b'Second' b'Third']\n",
            "deck                : [b'C' b'A' b'unknown' b'unknown' b'unknown' b'unknown' b'unknown'\n",
            " b'unknown' b'unknown' b'unknown' b'unknown' b'C' b'B' b'unknown'\n",
            " b'unknown' b'C' b'unknown' b'unknown' b'unknown' b'unknown' b'unknown'\n",
            " b'unknown' b'unknown' b'unknown' b'unknown' b'unknown' b'unknown'\n",
            " b'unknown' b'unknown' b'G' b'unknown' b'unknown' b'unknown' b'unknown'\n",
            " b'unknown' b'unknown' b'unknown' b'F' b'D' b'unknown' b'unknown' b'E'\n",
            " b'C' b'B' b'B' b'unknown' b'unknown' b'unknown' b'unknown' b'unknown'\n",
            " b'unknown' b'B' b'unknown' b'G' b'unknown' b'B' b'B' b'B' b'unknown'\n",
            " b'unknown' b'unknown' b'unknown' b'unknown' b'unknown' b'unknown'\n",
            " b'unknown' b'unknown' b'unknown' b'unknown' b'D' b'C' b'D' b'C'\n",
            " b'unknown' b'unknown' b'unknown' b'unknown' b'unknown' b'unknown'\n",
            " b'unknown' b'unknown' b'unknown' b'unknown' b'unknown' b'C' b'unknown'\n",
            " b'unknown' b'unknown' b'C' b'unknown' b'unknown' b'unknown' b'unknown'\n",
            " b'E' b'unknown' b'B' b'unknown' b'unknown' b'unknown' b'G']\n",
            "embark_town         : [b'Cherbourg' b'Cherbourg' b'Southampton' b'Southampton' b'Southampton'\n",
            " b'Southampton' b'Southampton' b'Queenstown' b'Queenstown' b'Southampton'\n",
            " b'Southampton' b'Southampton' b'Southampton' b'Cherbourg' b'Southampton'\n",
            " b'Cherbourg' b'Queenstown' b'Southampton' b'Queenstown' b'Southampton'\n",
            " b'Southampton' b'Southampton' b'Southampton' b'Southampton'\n",
            " b'Southampton' b'Southampton' b'Southampton' b'Southampton'\n",
            " b'Southampton' b'Southampton' b'Southampton' b'Southampton'\n",
            " b'Southampton' b'Southampton' b'Southampton' b'Southampton'\n",
            " b'Southampton' b'Southampton' b'Cherbourg' b'Southampton' b'Queenstown'\n",
            " b'Southampton' b'Southampton' b'Cherbourg' b'Southampton' b'Queenstown'\n",
            " b'Southampton' b'Southampton' b'Southampton' b'Southampton'\n",
            " b'Southampton' b'Southampton' b'Southampton' b'Southampton' b'Queenstown'\n",
            " b'Southampton' b'Southampton' b'Cherbourg' b'Cherbourg' b'Queenstown'\n",
            " b'Southampton' b'Cherbourg' b'Southampton' b'Southampton' b'Southampton'\n",
            " b'Southampton' b'Southampton' b'Southampton' b'Southampton'\n",
            " b'Southampton' b'Cherbourg' b'Cherbourg' b'Southampton' b'Cherbourg'\n",
            " b'Southampton' b'Cherbourg' b'Southampton' b'Southampton' b'Southampton'\n",
            " b'Cherbourg' b'Southampton' b'Southampton' b'Cherbourg' b'Queenstown'\n",
            " b'Cherbourg' b'Southampton' b'Southampton' b'Southampton' b'Southampton'\n",
            " b'Southampton' b'Southampton' b'Queenstown' b'Southampton' b'Cherbourg'\n",
            " b'Queenstown' b'Cherbourg' b'Queenstown' b'Southampton' b'Southampton'\n",
            " b'Southampton']\n",
            "alone               : [b'n' b'n' b'y' b'n' b'y' b'y' b'n' b'y' b'y' b'y' b'y' b'y' b'n' b'y'\n",
            " b'n' b'y' b'y' b'y' b'y' b'y' b'y' b'y' b'n' b'y' b'y' b'y' b'y' b'n'\n",
            " b'n' b'n' b'n' b'y' b'y' b'y' b'y' b'y' b'y' b'y' b'n' b'y' b'y' b'n'\n",
            " b'y' b'n' b'n' b'n' b'n' b'y' b'n' b'y' b'y' b'n' b'y' b'n' b'n' b'n'\n",
            " b'n' b'n' b'n' b'n' b'y' b'y' b'n' b'n' b'n' b'n' b'n' b'y' b'n' b'y'\n",
            " b'y' b'n' b'n' b'n' b'y' b'y' b'y' b'y' b'y' b'y' b'y' b'y' b'n' b'y'\n",
            " b'n' b'y' b'y' b'y' b'n' b'y' b'n' b'y' b'n' b'y' b'y' b'n' b'y' b'y'\n",
            " b'n' b'n']\n"
          ]
        }
      ]
    },
    {
      "cell_type": "markdown",
      "source": [
        "Este exemplo vai usar todas as colunas disponíveis. Se você precisar omitir algumas colunas do conjunto de dados, crie uma lista apenas das colunas que planeja usar e passe-a para o argumento (opcional) `select_columns` do construtor."
      ],
      "metadata": {
        "id": "3f2ZaQ_CHdk8"
      }
    },
    {
      "cell_type": "code",
      "source": [
        "SELECT_COLUMNS = ['survived', 'age', 'n_siblings_spouses', \n",
        "                  'class', 'deck', 'alone']"
      ],
      "metadata": {
        "id": "AX1GXpU9n2uM"
      },
      "execution_count": 19,
      "outputs": []
    },
    {
      "cell_type": "code",
      "source": [
        "temp_dataset = get_dataset(\n",
        "    file_path=train_file_path,\n",
        "    select_columns=SELECT_COLUMNS\n",
        ")\n",
        "\n",
        "show_batch(dataset=temp_dataset)"
      ],
      "metadata": {
        "colab": {
          "base_uri": "https://localhost:8080/"
        },
        "id": "sUx9BL2Y4cxd",
        "outputId": "04f72941-9917-406b-addc-7f525632e577"
      },
      "execution_count": 20,
      "outputs": [
        {
          "output_type": "stream",
          "name": "stdout",
          "text": [
            "age                 : [28.  19.  23.  47.  46.   7.  28.  29.  16.  23.  42.  40.  38.  25.\n",
            " 58.  28.  43.  50.  28.  14.  28.  42.  28.  21.  14.  18.  28.  19.\n",
            " 28.   3.  51.  18.  44.  28.  28.  24.   2.  30.  28.  24.  23.  22.\n",
            " 38.  19.  24.  28.  24.  58.  34.  28.  57.   4.  34.  45.  31.  29.\n",
            " 15.  31.  39.  40.  23.  35.  28.5 40.   6.  40.5 34.  21.  46.  64.\n",
            " 28.  32.  30.  47.  32.  28.  22.  51.   9.  39.  28.  28.  28.  18.\n",
            " 71.  18.   4.  41.  28.   1.  28.  24.  60.  28.  52.  28.  60.  10.\n",
            " 30.  37. ]\n",
            "n_siblings_spouses  : [0 0 0 1 1 0 0 0 0 3 0 1 0 0 0 0 0 1 0 1 0 1 0 2 5 1 2 0 0 1 0 0 0 0 8 0 4\n",
            " 1 1 2 0 0 1 0 0 1 0 0 0 8 0 4 0 0 1 0 1 1 1 0 0 0 0 1 0 0 0 0 0 1 0 0 0 0\n",
            " 0 0 0 0 4 0 0 0 0 0 0 0 0 0 1 5 0 0 0 0 1 0 1 3 0 1]\n",
            "class               : [b'Third' b'Third' b'Second' b'Third' b'First' b'Second' b'Third' b'Third'\n",
            " b'Third' b'First' b'Third' b'Third' b'First' b'Third' b'First' b'Third'\n",
            " b'Third' b'First' b'Third' b'Third' b'Third' b'First' b'Third' b'First'\n",
            " b'Third' b'Third' b'Third' b'Third' b'First' b'Second' b'First' b'Second'\n",
            " b'First' b'First' b'Third' b'Third' b'Third' b'Second' b'Second'\n",
            " b'Second' b'Third' b'First' b'Third' b'Third' b'First' b'First' b'First'\n",
            " b'First' b'Third' b'Third' b'Second' b'Third' b'Second' b'Third' b'First'\n",
            " b'Third' b'Third' b'Third' b'First' b'First' b'Third' b'Third' b'Third'\n",
            " b'Third' b'Third' b'Third' b'Second' b'Third' b'First' b'First' b'Third'\n",
            " b'Third' b'First' b'First' b'Third' b'Third' b'Third' b'Second' b'Third'\n",
            " b'Second' b'Third' b'Third' b'Third' b'Third' b'First' b'Third' b'Third'\n",
            " b'Third' b'First' b'Third' b'Third' b'Third' b'First' b'Third' b'First'\n",
            " b'Second' b'First' b'Third' b'First' b'Second']\n",
            "deck                : [b'unknown' b'unknown' b'D' b'unknown' b'E' b'unknown' b'unknown'\n",
            " b'unknown' b'unknown' b'C' b'unknown' b'unknown' b'C' b'F' b'B'\n",
            " b'unknown' b'unknown' b'C' b'unknown' b'unknown' b'unknown' b'unknown'\n",
            " b'unknown' b'B' b'unknown' b'unknown' b'unknown' b'unknown' b'unknown'\n",
            " b'F' b'E' b'unknown' b'B' b'unknown' b'unknown' b'unknown' b'unknown'\n",
            " b'unknown' b'unknown' b'unknown' b'unknown' b'unknown' b'unknown' b'F'\n",
            " b'C' b'B' b'C' b'C' b'unknown' b'unknown' b'unknown' b'unknown' b'F'\n",
            " b'unknown' b'B' b'unknown' b'unknown' b'unknown' b'E' b'unknown'\n",
            " b'unknown' b'unknown' b'unknown' b'unknown' b'E' b'unknown' b'unknown'\n",
            " b'unknown' b'B' b'C' b'unknown' b'unknown' b'unknown' b'E' b'E'\n",
            " b'unknown' b'unknown' b'unknown' b'unknown' b'unknown' b'unknown'\n",
            " b'unknown' b'unknown' b'unknown' b'A' b'unknown' b'unknown' b'unknown'\n",
            " b'unknown' b'unknown' b'unknown' b'unknown' b'unknown' b'unknown' b'B'\n",
            " b'unknown' b'B' b'unknown' b'unknown' b'unknown']\n",
            "alone               : [b'y' b'y' b'y' b'n' b'n' b'n' b'y' b'y' b'y' b'n' b'y' b'n' b'n' b'y'\n",
            " b'y' b'y' b'y' b'n' b'y' b'n' b'y' b'n' b'y' b'n' b'n' b'n' b'n' b'y'\n",
            " b'y' b'n' b'y' b'n' b'n' b'y' b'n' b'n' b'n' b'n' b'n' b'n' b'y' b'y'\n",
            " b'n' b'y' b'y' b'n' b'y' b'n' b'y' b'n' b'y' b'n' b'y' b'y' b'n' b'y'\n",
            " b'n' b'n' b'n' b'y' b'y' b'y' b'y' b'n' b'n' b'y' b'n' b'y' b'y' b'n'\n",
            " b'y' b'y' b'y' b'y' b'y' b'y' b'y' b'y' b'n' b'y' b'y' b'y' b'y' b'y'\n",
            " b'y' b'y' b'n' b'y' b'n' b'n' b'y' b'y' b'y' b'y' b'n' b'y' b'n' b'n'\n",
            " b'y' b'n']\n"
          ]
        }
      ]
    },
    {
      "cell_type": "markdown",
      "source": [
        "#### **3. Pré-processamento dos dados**"
      ],
      "metadata": {
        "id": "cUHFrrKy6dcF"
      }
    },
    {
      "cell_type": "markdown",
      "source": [
        "Um arquivo CSV pode conter uma variedade de tipos de dados. Normalmente, você deseja converter desses tipos mistos em um vetor de comprimento fixo antes de alimentar os dados em seu modelo.\n",
        "\n",
        "O TensorFlow possui um sistema interno para descrever conversões de entrada comuns: `tf.feature_column`, consulte este tutorial para detalhes.\n",
        "\n",
        "Você pode pré-processar seus dados usando qualquer ferramenta que desejar (como nltk ou sklearn) e apenas passar a saída processada para o TensorFlow.\n",
        "\n",
        "A principal vantagem de fazer o pré-processamento dentro do seu modelo é que, quando você exporta o modelo, ele inclui o pré-processamento. Dessa forma, você pode passar os dados brutos diretamente para o seu modelo."
      ],
      "metadata": {
        "id": "Uz3u-W9sHwPc"
      }
    },
    {
      "cell_type": "markdown",
      "source": [
        "**Dados contínuos**\n",
        "\n",
        "Se seus dados já estiverem em um formato numérico apropriado, você poderá compactá-los em um vetor antes de transmiti-los ao modelo:"
      ],
      "metadata": {
        "id": "KHxcnyKsH6ar"
      }
    },
    {
      "cell_type": "code",
      "source": [
        "SELECT_COLUMNS = ['survived', 'age', 'n_siblings_spouses', \n",
        "                  'parch', 'fare']"
      ],
      "metadata": {
        "id": "Gb1Kcl2E4cwK"
      },
      "execution_count": 21,
      "outputs": []
    },
    {
      "cell_type": "code",
      "source": [
        "DEFAULTS = [0, 0.0, 0.0, 0.0, 0.0]"
      ],
      "metadata": {
        "id": "YyJKwuL14cuV"
      },
      "execution_count": 22,
      "outputs": []
    },
    {
      "cell_type": "code",
      "source": [
        "temp_dataset = get_dataset(\n",
        "    file_path=train_file_path,\n",
        "    select_columns=SELECT_COLUMNS,\n",
        "    column_defaults=DEFAULTS\n",
        ")\n",
        "\n",
        "show_batch(dataset=temp_dataset)"
      ],
      "metadata": {
        "colab": {
          "base_uri": "https://localhost:8080/"
        },
        "id": "GaANymke4cqr",
        "outputId": "ac474624-b3d7-4a84-93de-8480d048d7fe"
      },
      "execution_count": 23,
      "outputs": [
        {
          "output_type": "stream",
          "name": "stdout",
          "text": [
            "age                 : [24.  23.  28.  50.  18.  70.5 63.  45.   9.  28.  39.  28.  31.  22.\n",
            " 45.  47.  28.  19.  40.  19.  32.5 28.  35.   5.  14.  42.  34.  64.\n",
            " 40.  27.  19.  28.  39.  28.  19.  28.  30.  16.  22.  59.  17.  24.\n",
            " 28.  28.  28.  28.  28.  22.  28.  24.  28.   2.  51.  28.  34.  27.\n",
            " 49.  18.  21.  25.  44.  18.  36.  44.  25.  28.  28.  21.  10.  29.\n",
            " 28.  28.  15.  28.  28.  32.   7.  28.  55.5 31.   4.   3.  28.  21.\n",
            " 31.  28.  28.  23.  40.5 19.  25.  39.  34.  16.  30.5 28.  66.  28.\n",
            " 44.  28. ]\n",
            "n_siblings_spouses  : [0. 0. 1. 1. 0. 0. 0. 0. 4. 0. 0. 0. 1. 0. 1. 0. 0. 0. 1. 0. 0. 0. 1. 0.\n",
            " 1. 1. 1. 1. 1. 0. 3. 1. 0. 0. 0. 0. 0. 0. 0. 0. 0. 2. 0. 0. 0. 0. 2. 1.\n",
            " 0. 0. 0. 0. 0. 0. 1. 1. 0. 1. 2. 1. 1. 1. 0. 0. 1. 0. 0. 0. 3. 0. 0. 0.\n",
            " 1. 0. 0. 0. 4. 8. 0. 1. 1. 1. 0. 0. 1. 0. 0. 0. 0. 0. 1. 1. 0. 0. 0. 1.\n",
            " 0. 0. 0. 1.]\n",
            "parch               : [1. 0. 0. 0. 0. 0. 0. 0. 2. 0. 0. 0. 1. 0. 0. 0. 0. 0. 4. 0. 0. 0. 0. 0.\n",
            " 0. 0. 1. 4. 1. 2. 2. 2. 0. 0. 0. 0. 0. 0. 2. 0. 0. 0. 0. 0. 0. 0. 0. 1.\n",
            " 0. 0. 0. 1. 0. 0. 0. 0. 0. 0. 2. 0. 0. 0. 2. 1. 0. 0. 0. 0. 2. 0. 0. 0.\n",
            " 0. 0. 0. 0. 1. 2. 0. 1. 1. 1. 0. 1. 0. 0. 0. 0. 2. 0. 1. 5. 0. 0. 0. 0.\n",
            " 0. 0. 0. 0.]\n",
            "fare                : [247.521  10.5    15.5   106.425   8.3     7.75    9.587   6.975  31.275\n",
            "  10.5    13.      8.05   26.25    7.25   83.475  34.021   7.896   8.05\n",
            "  27.9     7.896  13.      7.55   90.     12.475  30.071  26.     14.4\n",
            " 263.    134.5   211.5   263.     23.45    7.925  35.5    30.     13.\n",
            "   7.229   8.05   49.5    13.5     7.125  24.15    7.879   9.5     7.312\n",
            "   7.75   21.679  29.     26.      8.05   13.     12.288   8.05    8.05\n",
            "  21.     13.858   0.     17.8   262.375  91.079  26.      6.496  71.\n",
            "  57.979  26.      7.896  30.696  77.958  27.9     7.775   7.896 221.779\n",
            "  14.454   7.225   7.75    7.896  39.688  69.55    8.05   37.004  16.7\n",
            "  18.75    8.05   77.287  18.      7.25   13.     15.046  14.5    10.5\n",
            "  30.     31.275  13.      7.733   8.05   15.5    10.5     8.05    7.925\n",
            "  51.862]\n"
          ]
        }
      ]
    },
    {
      "cell_type": "code",
      "source": [
        "example_batch, labels_batch = next(iter(temp_dataset))"
      ],
      "metadata": {
        "id": "eKDi19NT4co-"
      },
      "execution_count": 24,
      "outputs": []
    },
    {
      "cell_type": "markdown",
      "source": [
        "Aqui está uma função simples que agrupará todas as colunas:"
      ],
      "metadata": {
        "id": "9nlgczgaIA-I"
      }
    },
    {
      "cell_type": "code",
      "source": [
        "def pack(features:str, label:str) -> str:\n",
        "    return tf.stack(list(features.values()), axis=1), label"
      ],
      "metadata": {
        "id": "Miww4bPT4cmH"
      },
      "execution_count": 25,
      "outputs": []
    },
    {
      "cell_type": "markdown",
      "source": [
        "Aplique isso a cada elemento do conjunto de dados:"
      ],
      "metadata": {
        "id": "6f0PMJ97IEFo"
      }
    },
    {
      "cell_type": "code",
      "source": [
        "packed_dataset = temp_dataset.map(pack)\n",
        "\n",
        "for features, labels in packed_dataset.take(1):\n",
        "    print(features.numpy())\n",
        "    print()\n",
        "    print(labels.numpy())"
      ],
      "metadata": {
        "colab": {
          "base_uri": "https://localhost:8080/"
        },
        "id": "zxgUiSMM4ck4",
        "outputId": "d63b2858-26a3-46dc-85b9-028b41ce68d7"
      },
      "execution_count": 26,
      "outputs": [
        {
          "output_type": "stream",
          "name": "stdout",
          "text": [
            "[[ 28.      3.      1.     25.467]\n",
            " [ 22.      1.      0.      7.25 ]\n",
            " [ 22.      1.      1.     29.   ]\n",
            " [ 18.      0.      0.      9.842]\n",
            " [ 36.      1.      0.     15.55 ]\n",
            " [ 28.      8.      2.     69.55 ]\n",
            " [ 30.5     0.      0.      8.05 ]\n",
            " [ 42.      0.      0.      7.55 ]\n",
            " [ 28.      1.      0.     19.967]\n",
            " [ 32.      0.      0.      7.854]\n",
            " [ 28.      0.      0.     47.1  ]\n",
            " [ 33.      0.      0.     12.275]\n",
            " [ 28.      0.      0.      0.   ]\n",
            " [ 42.      0.      0.    227.525]\n",
            " [ 28.      0.      0.      8.05 ]\n",
            " [ 29.      0.      0.      9.5  ]\n",
            " [  2.      0.      1.     12.288]\n",
            " [  9.      5.      2.     46.9  ]\n",
            " [ 41.      0.      0.      7.125]\n",
            " [  5.      2.      1.     19.258]\n",
            " [ 45.      1.      1.    164.867]\n",
            " [ 29.      1.      0.     27.721]\n",
            " [ 17.      0.      0.      8.663]\n",
            " [ 26.      0.      0.      8.05 ]\n",
            " [ 21.      0.      1.     77.287]\n",
            " [ 28.      0.      0.     35.5  ]\n",
            " [ 48.      1.      2.     65.   ]\n",
            " [ 23.      0.      0.     13.   ]\n",
            " [ 32.      0.      0.      7.925]\n",
            " [  9.      4.      2.     31.388]\n",
            " [ 39.      0.      0.      0.   ]\n",
            " [ 31.      1.      1.     26.25 ]\n",
            " [ 28.      0.      0.      7.75 ]\n",
            " [ 21.      0.      0.      7.75 ]\n",
            " [  5.      0.      0.     12.475]\n",
            " [ 28.      0.      0.     29.7  ]\n",
            " [ 22.      0.      0.      7.25 ]\n",
            " [ 49.      0.      0.      0.   ]\n",
            " [ 54.      1.      0.     59.4  ]\n",
            " [ 39.      0.      0.     13.   ]\n",
            " [ 49.      1.      0.     56.929]\n",
            " [ 41.      0.      5.     39.688]\n",
            " [ 24.      1.      0.     26.   ]\n",
            " [ 23.      0.      0.      7.925]\n",
            " [ 57.      0.      0.     10.5  ]\n",
            " [ 20.      0.      0.      9.225]\n",
            " [ 28.      0.      0.      8.05 ]\n",
            " [ 25.      0.      0.      0.   ]\n",
            " [ 16.      0.      0.      7.75 ]\n",
            " [ 28.      0.      0.    110.883]\n",
            " [ 28.      0.      0.      7.879]\n",
            " [ 40.      1.      0.      9.475]\n",
            " [  4.      3.      2.     27.9  ]\n",
            " [ 16.      4.      1.     39.688]\n",
            " [ 28.      0.      0.      7.75 ]\n",
            " [ 58.      0.      0.     29.7  ]\n",
            " [ 28.      0.      0.     30.5  ]\n",
            " [ 29.      1.      0.     66.6  ]\n",
            " [ 51.      0.      0.     26.55 ]\n",
            " [ 36.      1.      2.    120.   ]\n",
            " [ 28.      0.      0.     13.   ]\n",
            " [ 48.      0.      0.     26.55 ]\n",
            " [ 52.      0.      0.     30.5  ]\n",
            " [ 48.      0.      0.      7.854]\n",
            " [ 19.      3.      2.    263.   ]\n",
            " [ 24.      0.      0.     83.158]\n",
            " [ 28.      0.      0.      7.729]\n",
            " [  7.      0.      2.     26.25 ]\n",
            " [ 25.      1.      0.      7.775]\n",
            " [ 28.      0.      0.      7.775]\n",
            " [ 28.      0.      0.     39.6  ]\n",
            " [ 29.      0.      0.      9.483]\n",
            " [ 32.      1.      1.     15.5  ]\n",
            " [ 19.      0.      0.     30.   ]\n",
            " [ 42.      0.      0.     13.   ]\n",
            " [ 44.      0.      1.     16.1  ]\n",
            " [ 24.      0.      3.     19.258]\n",
            " [ 17.      0.      0.     12.   ]\n",
            " [ 62.      0.      0.     10.5  ]\n",
            " [ 28.      1.      0.    133.65 ]\n",
            " [ 11.      5.      2.     46.9  ]\n",
            " [ 28.      0.      1.     33.   ]\n",
            " [ 22.      0.      2.     49.5  ]\n",
            " [ 46.      0.      0.     26.   ]\n",
            " [ 23.      0.      0.     15.046]\n",
            " [ 35.      0.      0.     26.55 ]\n",
            " [ 48.      1.      0.     52.   ]\n",
            " [ 22.      0.      0.      7.125]\n",
            " [ 18.      0.      0.      7.796]\n",
            " [  2.      4.      1.     39.688]\n",
            " [ 36.      1.      2.     27.75 ]\n",
            " [ 28.      0.      0.      7.896]\n",
            " [ 23.      1.      0.    113.275]\n",
            " [ 40.5     0.      2.     14.5  ]\n",
            " [ 14.      1.      2.    120.   ]\n",
            " [ 24.      0.      0.     79.2  ]\n",
            " [ 40.      1.      1.    134.5  ]\n",
            " [ 47.      0.      0.     34.021]\n",
            " [ 28.      0.      0.      7.879]\n",
            " [ 28.      0.      0.      7.896]]\n",
            "\n",
            "[0 0 1 1 0 0 0 0 0 1 0 0 0 1 0 1 1 0 0 1 1 0 0 0 0 1 1 0 0 0 0 1 0 0 1 1 0\n",
            " 0 1 0 1 0 1 0 0 0 0 1 1 1 1 0 0 0 1 0 1 0 1 1 1 1 1 0 0 1 0 1 1 1 0 0 0 1\n",
            " 1 0 1 1 1 1 0 0 1 0 0 1 1 0 0 0 0 0 1 0 1 0 1 0 1 0]\n"
          ]
        }
      ]
    },
    {
      "cell_type": "markdown",
      "source": [
        "Se você tiver tipos de dados mistos, poderá separar esses campos numéricos simples. A API `tf.feature_column` pode lidar com eles, mas isso gera alguma sobrecarga e deve ser evitado, a menos que seja realmente necessário. Volte para o conjunto de dados misto:"
      ],
      "metadata": {
        "id": "6Jh-On-YIIWr"
      }
    },
    {
      "cell_type": "code",
      "source": [
        "show_batch(raw_train_data)"
      ],
      "metadata": {
        "colab": {
          "base_uri": "https://localhost:8080/"
        },
        "id": "NuzUNa264cjf",
        "outputId": "74230d92-c4a5-4dbf-c3a4-a2346061a522"
      },
      "execution_count": 27,
      "outputs": [
        {
          "output_type": "stream",
          "name": "stdout",
          "text": [
            "sex                 : [b'male' b'male' b'male' b'male' b'male' b'female' b'female' b'male'\n",
            " b'male' b'male' b'female' b'male' b'male' b'female' b'female' b'male'\n",
            " b'male' b'male' b'male' b'male' b'male' b'male' b'female' b'male'\n",
            " b'female' b'female' b'male' b'male' b'female' b'male' b'male' b'male'\n",
            " b'male' b'male' b'male' b'female' b'female' b'male' b'male' b'male'\n",
            " b'male' b'male' b'male' b'male' b'male' b'female' b'male' b'male' b'male'\n",
            " b'male' b'male' b'male' b'male' b'male' b'female' b'female' b'male'\n",
            " b'female' b'male' b'female' b'female' b'male' b'male' b'male' b'male'\n",
            " b'male' b'female' b'female' b'female' b'female' b'female' b'male' b'male'\n",
            " b'female' b'female' b'female' b'male' b'male' b'female' b'female' b'male'\n",
            " b'female' b'male' b'male' b'male' b'male' b'male' b'male' b'female'\n",
            " b'male' b'male' b'male' b'male' b'female' b'female' b'male' b'female'\n",
            " b'female' b'male' b'male']\n",
            "age                 : [28.   27.   34.   70.   36.   28.   28.   39.   16.   28.   38.   30.\n",
            "  4.    0.75 44.   32.    4.    6.   35.   28.   22.   28.    9.   28.\n",
            " 16.   24.    9.   17.   14.   28.   37.   32.   37.    0.83 59.    0.75\n",
            " 28.   18.   19.    2.   24.   52.   28.   25.   42.   28.   22.   22.\n",
            "  4.   28.   16.   19.   29.   18.   28.   25.   40.5   2.   28.   50.\n",
            " 26.   28.   70.5   1.   28.   27.   40.   28.   28.   19.   28.   24.\n",
            " 28.   22.   40.   18.   28.   18.   26.    9.   28.    3.   47.   40.\n",
            " 28.   28.   28.   44.   54.   47.   28.   28.   51.   21.   28.   19.\n",
            " 30.   28.   45.   20.  ]\n",
            "n_siblings_spouses  : [0 1 0 1 0 1 2 0 0 0 0 0 1 2 0 0 4 0 0 0 0 0 4 0 0 0 1 1 1 8 2 1 1 0 0 2 0\n",
            " 1 0 4 0 0 0 0 0 1 0 0 4 0 4 0 1 0 0 1 0 0 0 0 0 0 0 4 0 0 1 0 8 0 1 1 0 0\n",
            " 1 0 0 1 0 3 0 1 0 0 0 0 0 1 1 0 0 0 0 0 0 0 0 0 0 1]\n",
            "parch               : [0 0 0 1 0 0 0 0 0 0 0 0 1 1 0 0 1 1 0 0 0 0 2 0 0 0 1 1 0 2 0 0 0 2 0 1 0\n",
            " 0 0 1 0 0 0 0 0 0 0 0 2 0 1 0 0 0 0 2 0 1 0 1 0 0 0 1 0 0 1 0 2 0 0 0 0 0\n",
            " 1 1 0 1 0 2 0 2 0 0 0 0 0 0 0 0 0 0 0 0 0 0 0 0 0 1]\n",
            "fare                : [ 56.496  53.1     6.496  71.      7.896  15.5    23.25   13.     10.5\n",
            "   7.775  13.     13.     11.133  19.258  27.721   7.854  29.125  12.475\n",
            "  26.288   7.25    8.05    7.896  31.275   7.896   7.733  83.158  15.9\n",
            "   7.229  11.242  69.55    7.925  15.85   53.1    29.      7.25   19.258\n",
            "  12.35  108.9    10.5    39.688   7.896  30.5     9.5     0.      7.55\n",
            "  24.      7.25    7.896  31.275   7.896  39.688   0.     27.721  13.\n",
            "   7.229 151.55    7.75   12.288   0.     26.      7.925   7.75    7.75\n",
            "  39.688   8.05   26.     39.      7.879  69.55   30.    133.65   16.1\n",
            "   7.896 151.55  134.5    23.      7.05   20.212  78.85   27.9    26.55\n",
            "  41.579  15.     31.      7.25    7.55   14.5    26.     59.4    38.5\n",
            "   7.729   8.05   12.525  77.958  79.2    10.171   8.663   7.55   35.5\n",
            "  15.742]\n",
            "class               : [b'Third' b'First' b'Third' b'First' b'Third' b'Third' b'Third' b'Second'\n",
            " b'Second' b'Third' b'Second' b'Second' b'Third' b'Third' b'First'\n",
            " b'Third' b'Third' b'Third' b'First' b'Third' b'Third' b'Third' b'Third'\n",
            " b'Third' b'Third' b'First' b'Third' b'Third' b'Third' b'Third' b'Third'\n",
            " b'Third' b'First' b'Second' b'Third' b'Third' b'Second' b'First'\n",
            " b'Second' b'Third' b'Third' b'First' b'Third' b'Third' b'Third' b'Second'\n",
            " b'Third' b'Third' b'Third' b'Third' b'Third' b'Third' b'Second' b'Second'\n",
            " b'Third' b'First' b'Third' b'Third' b'Second' b'Second' b'Third' b'Third'\n",
            " b'Third' b'Third' b'Third' b'Second' b'Second' b'Third' b'Third' b'First'\n",
            " b'First' b'Third' b'Third' b'First' b'First' b'Second' b'Third' b'Third'\n",
            " b'First' b'Third' b'First' b'Second' b'Second' b'First' b'Third' b'Third'\n",
            " b'Third' b'Second' b'First' b'First' b'Third' b'Third' b'Second' b'First'\n",
            " b'First' b'Third' b'Third' b'Third' b'First' b'Third']\n",
            "deck                : [b'unknown' b'E' b'unknown' b'B' b'unknown' b'unknown' b'unknown'\n",
            " b'unknown' b'unknown' b'unknown' b'unknown' b'unknown' b'unknown'\n",
            " b'unknown' b'B' b'unknown' b'unknown' b'E' b'E' b'unknown' b'unknown'\n",
            " b'unknown' b'unknown' b'unknown' b'unknown' b'C' b'unknown' b'unknown'\n",
            " b'unknown' b'unknown' b'unknown' b'unknown' b'C' b'unknown' b'unknown'\n",
            " b'unknown' b'E' b'C' b'unknown' b'unknown' b'unknown' b'C' b'unknown'\n",
            " b'unknown' b'unknown' b'unknown' b'unknown' b'unknown' b'unknown'\n",
            " b'unknown' b'unknown' b'unknown' b'unknown' b'unknown' b'unknown' b'C'\n",
            " b'unknown' b'unknown' b'unknown' b'unknown' b'unknown' b'unknown'\n",
            " b'unknown' b'unknown' b'unknown' b'unknown' b'unknown' b'unknown'\n",
            " b'unknown' b'B' b'unknown' b'unknown' b'unknown' b'unknown' b'E'\n",
            " b'unknown' b'unknown' b'unknown' b'unknown' b'unknown' b'C' b'unknown'\n",
            " b'unknown' b'A' b'unknown' b'unknown' b'unknown' b'unknown' b'unknown'\n",
            " b'E' b'unknown' b'unknown' b'unknown' b'D' b'unknown' b'unknown'\n",
            " b'unknown' b'unknown' b'unknown' b'unknown']\n",
            "embark_town         : [b'Southampton' b'Southampton' b'Southampton' b'Southampton'\n",
            " b'Southampton' b'Queenstown' b'Queenstown' b'Southampton' b'Southampton'\n",
            " b'Southampton' b'Southampton' b'Southampton' b'Southampton' b'Cherbourg'\n",
            " b'Cherbourg' b'Southampton' b'Queenstown' b'Southampton' b'Southampton'\n",
            " b'Southampton' b'Southampton' b'Southampton' b'Southampton'\n",
            " b'Southampton' b'Queenstown' b'Cherbourg' b'Southampton' b'Cherbourg'\n",
            " b'Cherbourg' b'Southampton' b'Southampton' b'Southampton' b'Southampton'\n",
            " b'Southampton' b'Southampton' b'Cherbourg' b'Queenstown' b'Cherbourg'\n",
            " b'Southampton' b'Southampton' b'Southampton' b'Southampton'\n",
            " b'Southampton' b'Southampton' b'Southampton' b'Cherbourg' b'Southampton'\n",
            " b'Southampton' b'Southampton' b'Southampton' b'Southampton'\n",
            " b'Southampton' b'Cherbourg' b'Southampton' b'Cherbourg' b'Southampton'\n",
            " b'Queenstown' b'Southampton' b'Southampton' b'Southampton' b'Southampton'\n",
            " b'Queenstown' b'Queenstown' b'Southampton' b'Southampton' b'Southampton'\n",
            " b'Southampton' b'Queenstown' b'Southampton' b'Southampton' b'Southampton'\n",
            " b'Southampton' b'Southampton' b'Southampton' b'Cherbourg' b'Southampton'\n",
            " b'Southampton' b'Southampton' b'Southampton' b'Southampton'\n",
            " b'Southampton' b'Cherbourg' b'Southampton' b'Cherbourg' b'Southampton'\n",
            " b'Southampton' b'Southampton' b'Southampton' b'Cherbourg' b'Southampton'\n",
            " b'Queenstown' b'Southampton' b'Southampton' b'Southampton' b'Cherbourg'\n",
            " b'Southampton' b'Southampton' b'Southampton' b'Southampton' b'Cherbourg']\n",
            "alone               : [b'y' b'n' b'y' b'n' b'y' b'n' b'n' b'y' b'y' b'y' b'y' b'y' b'n' b'n'\n",
            " b'y' b'y' b'n' b'n' b'y' b'y' b'y' b'y' b'n' b'y' b'y' b'y' b'n' b'n'\n",
            " b'n' b'n' b'n' b'n' b'n' b'n' b'y' b'n' b'y' b'n' b'y' b'n' b'y' b'y'\n",
            " b'y' b'y' b'y' b'n' b'y' b'y' b'n' b'y' b'n' b'y' b'n' b'y' b'y' b'n'\n",
            " b'y' b'n' b'y' b'n' b'y' b'y' b'y' b'n' b'y' b'y' b'n' b'y' b'n' b'y'\n",
            " b'n' b'n' b'y' b'y' b'n' b'n' b'y' b'n' b'y' b'n' b'y' b'n' b'y' b'y'\n",
            " b'y' b'y' b'y' b'n' b'n' b'y' b'y' b'y' b'y' b'y' b'y' b'y' b'y' b'y'\n",
            " b'y' b'n']\n"
          ]
        }
      ]
    },
    {
      "cell_type": "code",
      "source": [
        "example_batch, labels_batch = next(iter(temp_dataset))"
      ],
      "metadata": {
        "id": "I4BNM7N64ch9"
      },
      "execution_count": 28,
      "outputs": []
    },
    {
      "cell_type": "markdown",
      "source": [
        "Portanto, defina um _pré-processador_ mais geral que selecione uma lista de recursos numéricos e os agrupe em uma única coluna:"
      ],
      "metadata": {
        "id": "wF2ugWNEIRWg"
      }
    },
    {
      "cell_type": "code",
      "source": [
        "class PackNumericFeatures(object):\n",
        "    def __init__(self, names:str):\n",
        "        self.names = names\n",
        "\n",
        "    def __call__(self, features:str, labels:str):\n",
        "        numeric_features = [features.pop(name) for name in self.names]\n",
        "        numeric_features = [tf.cast(feat, tf.float32) for feat in numeric_features]\n",
        "        numeric_features = tf.stack(numeric_features, axis=-1)\n",
        "\n",
        "        features['numeric'] = numeric_features\n",
        "        return features, labels"
      ],
      "metadata": {
        "id": "jwIsOrDQ4cb3"
      },
      "execution_count": 29,
      "outputs": []
    },
    {
      "cell_type": "code",
      "source": [
        "NUMERIC_FEATURES = ['age', 'n_siblings_spouses', 'parch', 'fare']\n",
        "\n",
        "packed_train_data = raw_train_data.map(\n",
        "    PackNumericFeatures(NUMERIC_FEATURES)\n",
        ")\n",
        "\n",
        "packed_test_data = raw_test_data.map(\n",
        "    PackNumericFeatures(NUMERIC_FEATURES)\n",
        ")"
      ],
      "metadata": {
        "id": "8H69XCQp4cY-"
      },
      "execution_count": 30,
      "outputs": []
    },
    {
      "cell_type": "code",
      "source": [
        "show_batch(packed_train_data)"
      ],
      "metadata": {
        "colab": {
          "base_uri": "https://localhost:8080/"
        },
        "id": "LRWJ8esmp-9w",
        "outputId": "39e6fc13-feed-4fde-b8da-515269d480a0"
      },
      "execution_count": 31,
      "outputs": [
        {
          "output_type": "stream",
          "name": "stdout",
          "text": [
            "sex                 : [b'male' b'male' b'female' b'female' b'male' b'male' b'female' b'male'\n",
            " b'female' b'male' b'male' b'female' b'female' b'female' b'male' b'male'\n",
            " b'female' b'male' b'male' b'female' b'male' b'female' b'male' b'male'\n",
            " b'male' b'female' b'female' b'male' b'male' b'male' b'male' b'male'\n",
            " b'female' b'female' b'female' b'female' b'female' b'male' b'male' b'male'\n",
            " b'male' b'male' b'female' b'male' b'female' b'male' b'male' b'male'\n",
            " b'male' b'male' b'female' b'male' b'female' b'female' b'female' b'male'\n",
            " b'male' b'female' b'female' b'male' b'male' b'male' b'male' b'male'\n",
            " b'male' b'male' b'female' b'male' b'male' b'male' b'female' b'male'\n",
            " b'female' b'male' b'male' b'male' b'male' b'female' b'male' b'male'\n",
            " b'female' b'male' b'male' b'female' b'female' b'female' b'female'\n",
            " b'female' b'female' b'male' b'female' b'male' b'male' b'male' b'female'\n",
            " b'male' b'male' b'female' b'male' b'male']\n",
            "class               : [b'Third' b'Third' b'Third' b'Third' b'Third' b'Third' b'Third' b'Third'\n",
            " b'Second' b'Third' b'First' b'First' b'First' b'First' b'Second' b'First'\n",
            " b'Third' b'Third' b'Third' b'First' b'Third' b'Second' b'Third' b'Third'\n",
            " b'Second' b'Second' b'Second' b'Third' b'Third' b'Second' b'Third'\n",
            " b'First' b'Second' b'First' b'Second' b'First' b'First' b'Third' b'Third'\n",
            " b'Third' b'Third' b'Third' b'Third' b'First' b'Third' b'Third' b'Second'\n",
            " b'First' b'First' b'First' b'Third' b'Second' b'Third' b'Third' b'Second'\n",
            " b'Third' b'Third' b'First' b'First' b'Third' b'Third' b'Second' b'Third'\n",
            " b'Third' b'Third' b'Second' b'Second' b'Third' b'Third' b'Third'\n",
            " b'Second' b'Third' b'Third' b'First' b'Third' b'Third' b'Third' b'Third'\n",
            " b'Third' b'Third' b'Third' b'Second' b'Third' b'Second' b'First' b'First'\n",
            " b'First' b'Third' b'First' b'Third' b'First' b'Third' b'Third' b'Third'\n",
            " b'Third' b'Third' b'Second' b'Third' b'Third' b'Third']\n",
            "deck                : [b'unknown' b'unknown' b'unknown' b'unknown' b'unknown' b'unknown'\n",
            " b'unknown' b'unknown' b'unknown' b'unknown' b'C' b'B' b'unknown' b'C'\n",
            " b'unknown' b'E' b'unknown' b'unknown' b'unknown' b'B' b'unknown'\n",
            " b'unknown' b'unknown' b'unknown' b'unknown' b'unknown' b'unknown'\n",
            " b'unknown' b'unknown' b'unknown' b'unknown' b'unknown' b'unknown' b'C'\n",
            " b'unknown' b'B' b'C' b'unknown' b'F' b'unknown' b'unknown' b'unknown'\n",
            " b'unknown' b'A' b'unknown' b'F' b'unknown' b'C' b'D' b'B' b'unknown'\n",
            " b'unknown' b'unknown' b'unknown' b'unknown' b'unknown' b'unknown' b'B'\n",
            " b'C' b'unknown' b'unknown' b'unknown' b'unknown' b'unknown' b'unknown'\n",
            " b'unknown' b'unknown' b'unknown' b'unknown' b'unknown' b'unknown'\n",
            " b'unknown' b'unknown' b'E' b'unknown' b'unknown' b'unknown' b'unknown'\n",
            " b'unknown' b'unknown' b'unknown' b'unknown' b'unknown' b'unknown' b'B'\n",
            " b'B' b'D' b'unknown' b'unknown' b'unknown' b'unknown' b'unknown'\n",
            " b'unknown' b'unknown' b'unknown' b'unknown' b'unknown' b'unknown'\n",
            " b'unknown' b'unknown']\n",
            "embark_town         : [b'Southampton' b'Southampton' b'Cherbourg' b'Southampton' b'Cherbourg'\n",
            " b'Southampton' b'Queenstown' b'Southampton' b'Southampton' b'Southampton'\n",
            " b'Cherbourg' b'Southampton' b'Cherbourg' b'Cherbourg' b'Southampton'\n",
            " b'Southampton' b'Southampton' b'Southampton' b'Southampton'\n",
            " b'Southampton' b'Southampton' b'Southampton' b'Southampton'\n",
            " b'Southampton' b'Southampton' b'Southampton' b'Southampton'\n",
            " b'Southampton' b'Southampton' b'Queenstown' b'Southampton' b'Cherbourg'\n",
            " b'Southampton' b'Cherbourg' b'Southampton' b'Cherbourg' b'Southampton'\n",
            " b'Southampton' b'Southampton' b'Southampton' b'Southampton'\n",
            " b'Southampton' b'Queenstown' b'Southampton' b'Southampton' b'Southampton'\n",
            " b'Southampton' b'Southampton' b'Southampton' b'Cherbourg' b'Queenstown'\n",
            " b'Cherbourg' b'Cherbourg' b'Southampton' b'Cherbourg' b'Queenstown'\n",
            " b'Cherbourg' b'Cherbourg' b'Cherbourg' b'Queenstown' b'Cherbourg'\n",
            " b'Southampton' b'Southampton' b'Southampton' b'Cherbourg' b'Cherbourg'\n",
            " b'Southampton' b'Southampton' b'Southampton' b'Southampton'\n",
            " b'Southampton' b'Southampton' b'Cherbourg' b'Southampton' b'Queenstown'\n",
            " b'Southampton' b'Southampton' b'Cherbourg' b'Southampton' b'Southampton'\n",
            " b'Southampton' b'Southampton' b'Queenstown' b'Southampton' b'Cherbourg'\n",
            " b'Cherbourg' b'Cherbourg' b'Southampton' b'Cherbourg' b'Southampton'\n",
            " b'Cherbourg' b'Southampton' b'Southampton' b'Southampton' b'Southampton'\n",
            " b'Southampton' b'Southampton' b'Southampton' b'Southampton' b'Queenstown']\n",
            "alone               : [b'n' b'y' b'y' b'n' b'y' b'n' b'y' b'y' b'y' b'y' b'n' b'n' b'y' b'n'\n",
            " b'n' b'y' b'n' b'y' b'y' b'n' b'y' b'n' b'n' b'y' b'y' b'y' b'y' b'y'\n",
            " b'y' b'y' b'n' b'y' b'n' b'y' b'n' b'n' b'n' b'y' b'y' b'n' b'n' b'y'\n",
            " b'y' b'y' b'n' b'y' b'y' b'y' b'n' b'y' b'y' b'y' b'n' b'n' b'n' b'y'\n",
            " b'y' b'n' b'y' b'y' b'n' b'y' b'y' b'y' b'y' b'n' b'n' b'y' b'n' b'y'\n",
            " b'y' b'n' b'n' b'y' b'y' b'y' b'y' b'n' b'n' b'n' b'n' b'y' b'n' b'n'\n",
            " b'y' b'n' b'n' b'y' b'y' b'y' b'y' b'y' b'y' b'n' b'y' b'y' b'n' b'n'\n",
            " b'y' b'n']\n",
            "numeric             : [[  1.      5.      2.     46.9  ]\n",
            " [ 17.      0.      0.      8.663]\n",
            " [ 15.      0.      0.      7.225]\n",
            " [ 28.      3.      1.     25.467]\n",
            " [ 20.      0.      0.      7.229]\n",
            " [ 18.      1.      1.     20.212]\n",
            " [ 28.      0.      0.      7.75 ]\n",
            " [ 44.      0.      0.      7.925]\n",
            " [ 28.      0.      0.     13.   ]\n",
            " [ 26.      0.      0.     56.496]\n",
            " [ 50.      1.      0.    106.425]\n",
            " [ 52.      1.      1.     93.5  ]\n",
            " [ 28.      0.      0.    110.883]\n",
            " [ 38.      1.      0.     71.283]\n",
            " [  3.      1.      1.     18.75 ]\n",
            " [ 36.      0.      0.     26.388]\n",
            " [ 11.      4.      2.     31.275]\n",
            " [ 22.      0.      0.      9.   ]\n",
            " [ 25.      0.      0.      7.05 ]\n",
            " [ 17.      1.      0.     57.   ]\n",
            " [ 19.      0.      0.      7.896]\n",
            " [ 50.      0.      1.     26.   ]\n",
            " [  9.      5.      2.     46.9  ]\n",
            " [ 45.      0.      0.      6.975]\n",
            " [ 35.      0.      0.     10.5  ]\n",
            " [ 28.      0.      0.     33.   ]\n",
            " [ 32.      0.      0.     13.   ]\n",
            " [ 19.      0.      0.      8.158]\n",
            " [ 16.      0.      0.      9.5  ]\n",
            " [ 57.      0.      0.     12.35 ]\n",
            " [ 24.      2.      0.     24.15 ]\n",
            " [ 71.      0.      0.     49.504]\n",
            " [ 22.      1.      1.     29.   ]\n",
            " [ 24.      0.      0.     49.504]\n",
            " [ 45.      1.      1.     26.25 ]\n",
            " [ 22.      0.      2.     49.5  ]\n",
            " [ 35.      1.      0.     53.1  ]\n",
            " [ 35.      0.      0.      8.05 ]\n",
            " [ 25.      0.      0.      7.65 ]\n",
            " [ 44.      0.      1.     16.1  ]\n",
            " [ 37.      2.      0.      7.925]\n",
            " [ 19.      0.      0.      0.   ]\n",
            " [ 28.      0.      0.      7.879]\n",
            " [ 28.      0.      0.     26.   ]\n",
            " [ 31.      1.      1.     20.525]\n",
            " [ 19.      0.      0.      7.65 ]\n",
            " [ 33.      0.      0.     12.275]\n",
            " [ 52.      0.      0.     30.5  ]\n",
            " [ 21.      0.      1.     77.287]\n",
            " [ 35.      0.      0.    512.329]\n",
            " [ 28.      0.      0.      7.787]\n",
            " [ 28.      0.      0.     15.05 ]\n",
            " [ 15.      1.      0.     14.454]\n",
            " [ 28.      3.      1.     25.467]\n",
            " [ 22.      1.      2.     41.579]\n",
            " [ 28.      0.      0.      7.75 ]\n",
            " [ 28.      0.      0.      7.229]\n",
            " [ 28.      1.      0.    146.521]\n",
            " [ 24.      0.      0.     83.158]\n",
            " [ 28.      0.      0.      7.75 ]\n",
            " [ 28.      1.      1.     15.246]\n",
            " [ 23.      0.      0.     10.5  ]\n",
            " [ 38.      0.      0.      7.05 ]\n",
            " [ 18.      0.      0.      7.75 ]\n",
            " [ 28.      0.      0.      7.896]\n",
            " [ 31.      1.      1.     37.004]\n",
            " [ 41.      0.      1.     19.5  ]\n",
            " [ 42.      0.      0.      7.55 ]\n",
            " [ 36.      1.      1.     24.15 ]\n",
            " [ 27.      0.      0.      8.663]\n",
            " [ 34.      0.      0.     13.   ]\n",
            " [ 14.      5.      2.     46.9  ]\n",
            " [ 24.      0.      3.     19.258]\n",
            " [ 47.      0.      0.     25.587]\n",
            " [ 28.      0.      0.      7.75 ]\n",
            " [ 25.      0.      0.      7.05 ]\n",
            " [ 28.      0.      0.      7.312]\n",
            " [ 28.      0.      2.     15.246]\n",
            " [ 41.      2.      0.     14.108]\n",
            " [  4.      1.      1.     11.133]\n",
            " [ 28.      1.      0.     16.1  ]\n",
            " [ 39.      0.      0.     26.   ]\n",
            " [ 28.      1.      0.     24.15 ]\n",
            " [  7.      0.      2.     26.25 ]\n",
            " [ 24.      0.      0.     69.3  ]\n",
            " [ 18.      2.      2.    262.375]\n",
            " [ 52.      1.      0.     78.267]\n",
            " [ 63.      0.      0.      9.587]\n",
            " [ 30.      0.      0.     31.   ]\n",
            " [ 28.      0.      0.     14.5  ]\n",
            " [ 30.      0.      0.    106.425]\n",
            " [ 25.      0.      0.      0.   ]\n",
            " [ 32.      0.      0.     56.496]\n",
            " [  2.      3.      1.     21.075]\n",
            " [ 28.      0.      0.      7.55 ]\n",
            " [ 35.      0.      0.      7.05 ]\n",
            " [  0.83    0.      2.     29.   ]\n",
            " [ 31.      1.      0.     18.   ]\n",
            " [ 28.      0.      0.      8.663]\n",
            " [  2.      4.      1.     29.125]]\n"
          ]
        }
      ]
    },
    {
      "cell_type": "code",
      "source": [
        "example_batch, labels_batch = next(iter(packed_train_data))"
      ],
      "metadata": {
        "id": "JM1OgEHDp-5q"
      },
      "execution_count": 32,
      "outputs": []
    },
    {
      "cell_type": "markdown",
      "source": [
        "**Normalização dos dados**\n",
        "\n",
        "Dados contínuos sempre devem ser normalizados."
      ],
      "metadata": {
        "id": "KhjscT8oEt3l"
      }
    },
    {
      "cell_type": "code",
      "source": [
        "import pandas as pd"
      ],
      "metadata": {
        "id": "2ObBh9fGp-2r"
      },
      "execution_count": 33,
      "outputs": []
    },
    {
      "cell_type": "code",
      "source": [
        "desc = pd.read_csv(filepath_or_buffer=train_file_path)[NUMERIC_FEATURES].describe()"
      ],
      "metadata": {
        "id": "CFj9sTgLp-1U"
      },
      "execution_count": 34,
      "outputs": []
    },
    {
      "cell_type": "code",
      "source": [
        "desc.T"
      ],
      "metadata": {
        "colab": {
          "base_uri": "https://localhost:8080/",
          "height": 175
        },
        "id": "56GYMMEKp-yw",
        "outputId": "67fe6275-c86b-4824-daf0-fd7622a5145f"
      },
      "execution_count": 35,
      "outputs": [
        {
          "output_type": "execute_result",
          "data": {
            "text/plain": [
              "                    count       mean        std   min      25%      50%  \\\n",
              "age                 627.0  29.631308  12.511818  0.75  23.0000  28.0000   \n",
              "n_siblings_spouses  627.0   0.545455   1.151090  0.00   0.0000   0.0000   \n",
              "parch               627.0   0.379585   0.792999  0.00   0.0000   0.0000   \n",
              "fare                627.0  34.385399  54.597730  0.00   7.8958  15.0458   \n",
              "\n",
              "                        75%       max  \n",
              "age                 35.0000   80.0000  \n",
              "n_siblings_spouses   1.0000    8.0000  \n",
              "parch                0.0000    5.0000  \n",
              "fare                31.3875  512.3292  "
            ],
            "text/html": [
              "\n",
              "  <div id=\"df-49b4739d-82a2-4463-b1df-645d31f26b9d\">\n",
              "    <div class=\"colab-df-container\">\n",
              "      <div>\n",
              "<style scoped>\n",
              "    .dataframe tbody tr th:only-of-type {\n",
              "        vertical-align: middle;\n",
              "    }\n",
              "\n",
              "    .dataframe tbody tr th {\n",
              "        vertical-align: top;\n",
              "    }\n",
              "\n",
              "    .dataframe thead th {\n",
              "        text-align: right;\n",
              "    }\n",
              "</style>\n",
              "<table border=\"1\" class=\"dataframe\">\n",
              "  <thead>\n",
              "    <tr style=\"text-align: right;\">\n",
              "      <th></th>\n",
              "      <th>count</th>\n",
              "      <th>mean</th>\n",
              "      <th>std</th>\n",
              "      <th>min</th>\n",
              "      <th>25%</th>\n",
              "      <th>50%</th>\n",
              "      <th>75%</th>\n",
              "      <th>max</th>\n",
              "    </tr>\n",
              "  </thead>\n",
              "  <tbody>\n",
              "    <tr>\n",
              "      <th>age</th>\n",
              "      <td>627.0</td>\n",
              "      <td>29.631308</td>\n",
              "      <td>12.511818</td>\n",
              "      <td>0.75</td>\n",
              "      <td>23.0000</td>\n",
              "      <td>28.0000</td>\n",
              "      <td>35.0000</td>\n",
              "      <td>80.0000</td>\n",
              "    </tr>\n",
              "    <tr>\n",
              "      <th>n_siblings_spouses</th>\n",
              "      <td>627.0</td>\n",
              "      <td>0.545455</td>\n",
              "      <td>1.151090</td>\n",
              "      <td>0.00</td>\n",
              "      <td>0.0000</td>\n",
              "      <td>0.0000</td>\n",
              "      <td>1.0000</td>\n",
              "      <td>8.0000</td>\n",
              "    </tr>\n",
              "    <tr>\n",
              "      <th>parch</th>\n",
              "      <td>627.0</td>\n",
              "      <td>0.379585</td>\n",
              "      <td>0.792999</td>\n",
              "      <td>0.00</td>\n",
              "      <td>0.0000</td>\n",
              "      <td>0.0000</td>\n",
              "      <td>0.0000</td>\n",
              "      <td>5.0000</td>\n",
              "    </tr>\n",
              "    <tr>\n",
              "      <th>fare</th>\n",
              "      <td>627.0</td>\n",
              "      <td>34.385399</td>\n",
              "      <td>54.597730</td>\n",
              "      <td>0.00</td>\n",
              "      <td>7.8958</td>\n",
              "      <td>15.0458</td>\n",
              "      <td>31.3875</td>\n",
              "      <td>512.3292</td>\n",
              "    </tr>\n",
              "  </tbody>\n",
              "</table>\n",
              "</div>\n",
              "      <button class=\"colab-df-convert\" onclick=\"convertToInteractive('df-49b4739d-82a2-4463-b1df-645d31f26b9d')\"\n",
              "              title=\"Convert this dataframe to an interactive table.\"\n",
              "              style=\"display:none;\">\n",
              "        \n",
              "  <svg xmlns=\"http://www.w3.org/2000/svg\" height=\"24px\"viewBox=\"0 0 24 24\"\n",
              "       width=\"24px\">\n",
              "    <path d=\"M0 0h24v24H0V0z\" fill=\"none\"/>\n",
              "    <path d=\"M18.56 5.44l.94 2.06.94-2.06 2.06-.94-2.06-.94-.94-2.06-.94 2.06-2.06.94zm-11 1L8.5 8.5l.94-2.06 2.06-.94-2.06-.94L8.5 2.5l-.94 2.06-2.06.94zm10 10l.94 2.06.94-2.06 2.06-.94-2.06-.94-.94-2.06-.94 2.06-2.06.94z\"/><path d=\"M17.41 7.96l-1.37-1.37c-.4-.4-.92-.59-1.43-.59-.52 0-1.04.2-1.43.59L10.3 9.45l-7.72 7.72c-.78.78-.78 2.05 0 2.83L4 21.41c.39.39.9.59 1.41.59.51 0 1.02-.2 1.41-.59l7.78-7.78 2.81-2.81c.8-.78.8-2.07 0-2.86zM5.41 20L4 18.59l7.72-7.72 1.47 1.35L5.41 20z\"/>\n",
              "  </svg>\n",
              "      </button>\n",
              "      \n",
              "  <style>\n",
              "    .colab-df-container {\n",
              "      display:flex;\n",
              "      flex-wrap:wrap;\n",
              "      gap: 12px;\n",
              "    }\n",
              "\n",
              "    .colab-df-convert {\n",
              "      background-color: #E8F0FE;\n",
              "      border: none;\n",
              "      border-radius: 50%;\n",
              "      cursor: pointer;\n",
              "      display: none;\n",
              "      fill: #1967D2;\n",
              "      height: 32px;\n",
              "      padding: 0 0 0 0;\n",
              "      width: 32px;\n",
              "    }\n",
              "\n",
              "    .colab-df-convert:hover {\n",
              "      background-color: #E2EBFA;\n",
              "      box-shadow: 0px 1px 2px rgba(60, 64, 67, 0.3), 0px 1px 3px 1px rgba(60, 64, 67, 0.15);\n",
              "      fill: #174EA6;\n",
              "    }\n",
              "\n",
              "    [theme=dark] .colab-df-convert {\n",
              "      background-color: #3B4455;\n",
              "      fill: #D2E3FC;\n",
              "    }\n",
              "\n",
              "    [theme=dark] .colab-df-convert:hover {\n",
              "      background-color: #434B5C;\n",
              "      box-shadow: 0px 1px 3px 1px rgba(0, 0, 0, 0.15);\n",
              "      filter: drop-shadow(0px 1px 2px rgba(0, 0, 0, 0.3));\n",
              "      fill: #FFFFFF;\n",
              "    }\n",
              "  </style>\n",
              "\n",
              "      <script>\n",
              "        const buttonEl =\n",
              "          document.querySelector('#df-49b4739d-82a2-4463-b1df-645d31f26b9d button.colab-df-convert');\n",
              "        buttonEl.style.display =\n",
              "          google.colab.kernel.accessAllowed ? 'block' : 'none';\n",
              "\n",
              "        async function convertToInteractive(key) {\n",
              "          const element = document.querySelector('#df-49b4739d-82a2-4463-b1df-645d31f26b9d');\n",
              "          const dataTable =\n",
              "            await google.colab.kernel.invokeFunction('convertToInteractive',\n",
              "                                                     [key], {});\n",
              "          if (!dataTable) return;\n",
              "\n",
              "          const docLinkHtml = 'Like what you see? Visit the ' +\n",
              "            '<a target=\"_blank\" href=https://colab.research.google.com/notebooks/data_table.ipynb>data table notebook</a>'\n",
              "            + ' to learn more about interactive tables.';\n",
              "          element.innerHTML = '';\n",
              "          dataTable['output_type'] = 'display_data';\n",
              "          await google.colab.output.renderOutput(dataTable, element);\n",
              "          const docLink = document.createElement('div');\n",
              "          docLink.innerHTML = docLinkHtml;\n",
              "          element.appendChild(docLink);\n",
              "        }\n",
              "      </script>\n",
              "    </div>\n",
              "  </div>\n",
              "  "
            ]
          },
          "metadata": {},
          "execution_count": 35
        }
      ]
    },
    {
      "cell_type": "code",
      "source": [
        "MEAN = np.array(desc.T['mean'])\n",
        "\n",
        "STD = np.array(desc.T['std'])"
      ],
      "metadata": {
        "id": "6iewO0CEp-xo"
      },
      "execution_count": 36,
      "outputs": []
    },
    {
      "cell_type": "code",
      "source": [
        "MEAN"
      ],
      "metadata": {
        "colab": {
          "base_uri": "https://localhost:8080/"
        },
        "id": "3rRclggAp-wd",
        "outputId": "bc4eead3-d41e-47c8-f71b-25638495ea1e"
      },
      "execution_count": 37,
      "outputs": [
        {
          "output_type": "execute_result",
          "data": {
            "text/plain": [
              "array([29.631,  0.545,  0.38 , 34.385])"
            ]
          },
          "metadata": {},
          "execution_count": 37
        }
      ]
    },
    {
      "cell_type": "code",
      "source": [
        "STD"
      ],
      "metadata": {
        "colab": {
          "base_uri": "https://localhost:8080/"
        },
        "id": "J4FhNqPrp-q3",
        "outputId": "55ba0adf-95d7-49c0-c1d0-27b81264e6c2"
      },
      "execution_count": 38,
      "outputs": [
        {
          "output_type": "execute_result",
          "data": {
            "text/plain": [
              "array([12.512,  1.151,  0.793, 54.598])"
            ]
          },
          "metadata": {},
          "execution_count": 38
        }
      ]
    },
    {
      "cell_type": "code",
      "source": [
        "def normalize_numeric_data(data:str, mean:eval, std:eval):\n",
        "    return (data-mean) / std"
      ],
      "metadata": {
        "id": "BlvQ6h6Ip-nm"
      },
      "execution_count": 39,
      "outputs": []
    },
    {
      "cell_type": "markdown",
      "source": [
        "Agora crie uma coluna numérica. A API `tf.feature_columns.numeric_column` aceita um argumento `normalizer_fn`, que será executado em cada lote.\n",
        "\n",
        "Ligue o `MEAN` e o `STD` ao normalizador fn usando `functools.partial`\n",
        "\n",
        "\n"
      ],
      "metadata": {
        "id": "UXwEOd5VIhbM"
      }
    },
    {
      "cell_type": "code",
      "source": [
        "normalizer = functools.partial(\n",
        "    normalize_numeric_data,\n",
        "    mean=MEAN,\n",
        "    std=STD\n",
        ")"
      ],
      "metadata": {
        "id": "1wQr6HKsp-mS"
      },
      "execution_count": 40,
      "outputs": []
    },
    {
      "cell_type": "code",
      "source": [
        "numeric_column = tf.feature_column.numeric_column('numeric', \n",
        "                                                  normalizer_fn=normalizer,\n",
        "                                                  shape=[len(NUMERIC_FEATURES)])\n",
        "\n",
        "numeric_column"
      ],
      "metadata": {
        "colab": {
          "base_uri": "https://localhost:8080/"
        },
        "id": "tWO50jnkp-i5",
        "outputId": "5524e29b-c071-4397-b37b-27c6b97fcd8d"
      },
      "execution_count": 41,
      "outputs": [
        {
          "output_type": "execute_result",
          "data": {
            "text/plain": [
              "NumericColumn(key='numeric', shape=(4,), default_value=None, dtype=tf.float32, normalizer_fn=functools.partial(<function normalize_numeric_data at 0x7f0c682571f0>, mean=array([29.631,  0.545,  0.38 , 34.385]), std=array([12.512,  1.151,  0.793, 54.598])))"
            ]
          },
          "metadata": {},
          "execution_count": 41
        }
      ]
    },
    {
      "cell_type": "code",
      "source": [
        "numeric_columns = [numeric_column]"
      ],
      "metadata": {
        "id": "BPgl0kqkp-gp"
      },
      "execution_count": 42,
      "outputs": []
    },
    {
      "cell_type": "markdown",
      "source": [
        "Ao treinar o modelo, inclua esta coluna de característica para selecionar e centralizar este bloco de dados numéricos:\n",
        "\n",
        "\n"
      ],
      "metadata": {
        "id": "3mivxWFMI3Vl"
      }
    },
    {
      "cell_type": "code",
      "source": [
        "example_batch['numeric']"
      ],
      "metadata": {
        "colab": {
          "base_uri": "https://localhost:8080/"
        },
        "id": "8jfHcSTpp-fd",
        "outputId": "0604b260-65cb-4ee3-8663-443fa77226d3"
      },
      "execution_count": 43,
      "outputs": [
        {
          "output_type": "execute_result",
          "data": {
            "text/plain": [
              "<tf.Tensor: shape=(100, 4), dtype=float32, numpy=\n",
              "array([[ 80.   ,   0.   ,   0.   ,  30.   ],\n",
              "       [ 44.   ,   0.   ,   1.   ,  57.979],\n",
              "       [ 30.   ,   0.   ,   0.   ,  27.75 ],\n",
              "       [ 70.   ,   1.   ,   1.   ,  71.   ],\n",
              "       [ 34.   ,   1.   ,   0.   ,  26.   ],\n",
              "       [ 28.   ,   0.   ,   0.   ,   0.   ],\n",
              "       [ 44.   ,   0.   ,   1.   ,  16.1  ],\n",
              "       [ 28.   ,   0.   ,   0.   ,   0.   ],\n",
              "       [ 28.   ,   0.   ,   0.   ,   7.229],\n",
              "       [ 28.   ,   0.   ,   0.   ,   7.896],\n",
              "       [ 30.   ,   0.   ,   0.   ,  93.5  ],\n",
              "       [ 28.   ,   0.   ,   0.   ,   7.796],\n",
              "       [ 26.   ,   0.   ,   0.   ,   7.896],\n",
              "       [ 22.   ,   0.   ,   2.   ,  49.5  ],\n",
              "       [ 18.   ,   0.   ,   0.   ,  73.5  ],\n",
              "       [ 28.   ,   8.   ,   2.   ,  69.55 ],\n",
              "       [ 28.   ,   0.   ,   0.   ,   7.312],\n",
              "       [ 25.   ,   0.   ,   0.   ,   7.05 ],\n",
              "       [ 25.   ,   1.   ,   0.   ,  17.8  ],\n",
              "       [ 28.   ,   0.   ,   0.   , 227.525],\n",
              "       [ 28.   ,   1.   ,   0.   ,  82.171],\n",
              "       [ 40.   ,   1.   ,   0.   ,   9.475],\n",
              "       [ 21.   ,   0.   ,   0.   ,  77.958],\n",
              "       [ 36.   ,   0.   ,   2.   ,  71.   ],\n",
              "       [ 28.   ,   0.   ,   2.   ,  15.246],\n",
              "       [ 16.   ,   0.   ,   0.   ,  26.   ],\n",
              "       [ 31.   ,   1.   ,   0.   ,  52.   ],\n",
              "       [ 28.   ,   0.   ,   0.   ,  26.55 ],\n",
              "       [ 19.   ,   1.   ,   0.   ,  26.   ],\n",
              "       [ 28.   ,   0.   ,   0.   ,   8.05 ],\n",
              "       [ 58.   ,   0.   ,   0.   , 146.521],\n",
              "       [ 35.   ,   0.   ,   0.   , 512.329],\n",
              "       [ 28.   ,   0.   ,   0.   ,   7.05 ],\n",
              "       [ 38.   ,   0.   ,   0.   , 227.525],\n",
              "       [ 21.   ,   0.   ,   0.   ,  73.5  ],\n",
              "       [ 28.   ,   0.   ,   0.   ,   8.05 ],\n",
              "       [ 18.   ,   0.   ,   0.   ,  11.5  ],\n",
              "       [ 48.   ,   0.   ,   0.   ,  26.55 ],\n",
              "       [ 36.   ,   1.   ,   1.   ,  24.15 ],\n",
              "       [ 18.   ,   0.   ,   0.   ,  13.   ],\n",
              "       [ 19.   ,   0.   ,   0.   ,  30.   ],\n",
              "       [ 24.   ,   2.   ,   0.   ,  73.5  ],\n",
              "       [ 23.   ,   0.   ,   0.   ,   7.925],\n",
              "       [  2.   ,   0.   ,   1.   ,  10.462],\n",
              "       [ 26.   ,   0.   ,   0.   ,   7.925],\n",
              "       [ 27.   ,   1.   ,   0.   ,  53.1  ],\n",
              "       [ 22.   ,   1.   ,   2.   ,  41.579],\n",
              "       [  4.   ,   0.   ,   2.   ,  22.025],\n",
              "       [ 36.   ,   0.   ,   0.   ,  10.5  ],\n",
              "       [  0.75 ,   2.   ,   1.   ,  19.258],\n",
              "       [ 24.   ,   0.   ,   0.   ,  13.   ],\n",
              "       [ 36.   ,   1.   ,   0.   ,  17.4  ],\n",
              "       [ 28.   ,   1.   ,   0.   ,  15.85 ],\n",
              "       [ 43.   ,   1.   ,   1.   ,  26.25 ],\n",
              "       [ 19.   ,   0.   ,   0.   ,  10.5  ],\n",
              "       [ 22.   ,   0.   ,   0.   , 151.55 ],\n",
              "       [ 51.   ,   0.   ,   1.   ,  61.379],\n",
              "       [ 28.   ,   0.   ,   0.   ,   7.733],\n",
              "       [ 28.   ,   0.   ,   0.   ,   7.75 ],\n",
              "       [ 39.   ,   1.   ,   5.   ,  31.275],\n",
              "       [ 28.   ,   0.   ,   2.   ,   7.75 ],\n",
              "       [ 19.   ,   0.   ,   0.   ,   7.775],\n",
              "       [ 18.   ,   0.   ,   0.   ,   7.796],\n",
              "       [ 28.   ,   0.   ,   0.   ,   7.229],\n",
              "       [ 56.   ,   0.   ,   0.   ,  26.55 ],\n",
              "       [ 28.   ,   1.   ,   2.   ,  23.45 ],\n",
              "       [ 62.   ,   0.   ,   0.   ,  10.5  ],\n",
              "       [ 34.   ,   0.   ,   0.   ,  10.5  ],\n",
              "       [ 30.5  ,   0.   ,   0.   ,   8.05 ],\n",
              "       [ 38.   ,   0.   ,   1.   , 153.462],\n",
              "       [ 33.   ,   0.   ,   2.   ,  26.   ],\n",
              "       [ 49.   ,   0.   ,   0.   ,  25.929],\n",
              "       [ 23.   ,   0.   ,   0.   ,  13.   ],\n",
              "       [ 41.   ,   2.   ,   0.   ,  14.108],\n",
              "       [ 25.   ,   1.   ,   0.   ,  91.079],\n",
              "       [ 50.   ,   0.   ,   1.   ,  26.   ],\n",
              "       [ 28.   ,   0.   ,   0.   ,   8.05 ],\n",
              "       [ 58.   ,   0.   ,   1.   , 153.462],\n",
              "       [ 28.   ,   0.   ,   0.   ,   7.25 ],\n",
              "       [ 28.   ,   0.   ,   0.   ,   7.896],\n",
              "       [ 51.   ,   1.   ,   0.   ,  77.958],\n",
              "       [ 24.   ,   0.   ,   1.   , 247.521],\n",
              "       [ 25.   ,   0.   ,   0.   ,   7.742],\n",
              "       [ 33.   ,   0.   ,   0.   ,  12.275],\n",
              "       [ 33.   ,   1.   ,   2.   ,  27.75 ],\n",
              "       [ 38.   ,   0.   ,   0.   ,  13.   ],\n",
              "       [ 30.   ,   0.   ,   0.   ,  13.   ],\n",
              "       [ 28.   ,   0.   ,   0.   ,  52.   ],\n",
              "       [ 34.   ,   0.   ,   0.   ,  26.55 ],\n",
              "       [ 60.   ,   1.   ,   1.   ,  39.   ],\n",
              "       [ 45.   ,   1.   ,   1.   , 164.867],\n",
              "       [ 28.   ,   0.   ,   0.   ,   7.896],\n",
              "       [  5.   ,   2.   ,   1.   ,  19.258],\n",
              "       [ 28.   ,   0.   ,   0.   ,   7.896],\n",
              "       [ 50.   ,   1.   ,   0.   , 106.425],\n",
              "       [ 25.   ,   0.   ,   0.   ,   7.05 ],\n",
              "       [ 28.   ,   1.   ,   0.   ,  15.5  ],\n",
              "       [ 35.   ,   0.   ,   0.   ,   7.896],\n",
              "       [ 20.   ,   0.   ,   0.   ,   8.05 ],\n",
              "       [ 16.   ,   0.   ,   0.   ,   8.05 ]], dtype=float32)>"
            ]
          },
          "metadata": {},
          "execution_count": 43
        }
      ]
    },
    {
      "cell_type": "code",
      "source": [
        "numeric_layer = tf.keras.layers.DenseFeatures(numeric_columns)\n",
        "\n",
        "numeric_layer(example_batch).numpy()"
      ],
      "metadata": {
        "colab": {
          "base_uri": "https://localhost:8080/"
        },
        "id": "rXBGBdJDp-ec",
        "outputId": "10cd00ae-f50c-47f2-be33-e06077474390"
      },
      "execution_count": 44,
      "outputs": [
        {
          "output_type": "execute_result",
          "data": {
            "text/plain": [
              "array([[ 4.026, -0.474, -0.479, -0.08 ],\n",
              "       [ 1.148, -0.474,  0.782,  0.432],\n",
              "       [ 0.029, -0.474, -0.479, -0.122],\n",
              "       [ 3.226,  0.395,  0.782,  0.671],\n",
              "       [ 0.349,  0.395, -0.479, -0.154],\n",
              "       [-0.13 , -0.474, -0.479, -0.63 ],\n",
              "       [ 1.148, -0.474,  0.782, -0.335],\n",
              "       [-0.13 , -0.474, -0.479, -0.63 ],\n",
              "       [-0.13 , -0.474, -0.479, -0.497],\n",
              "       [-0.13 , -0.474, -0.479, -0.485],\n",
              "       [ 0.029, -0.474, -0.479,  1.083],\n",
              "       [-0.13 , -0.474, -0.479, -0.487],\n",
              "       [-0.29 , -0.474, -0.479, -0.485],\n",
              "       [-0.61 , -0.474,  2.043,  0.277],\n",
              "       [-0.93 , -0.474, -0.479,  0.716],\n",
              "       [-0.13 ,  6.476,  2.043,  0.644],\n",
              "       [-0.13 , -0.474, -0.479, -0.496],\n",
              "       [-0.37 , -0.474, -0.479, -0.501],\n",
              "       [-0.37 ,  0.395, -0.479, -0.304],\n",
              "       [-0.13 , -0.474, -0.479,  3.538],\n",
              "       [-0.13 ,  0.395, -0.479,  0.875],\n",
              "       [ 0.829,  0.395, -0.479, -0.456],\n",
              "       [-0.69 , -0.474, -0.479,  0.798],\n",
              "       [ 0.509, -0.474,  2.043,  0.671],\n",
              "       [-0.13 , -0.474,  2.043, -0.351],\n",
              "       [-1.089, -0.474, -0.479, -0.154],\n",
              "       [ 0.109,  0.395, -0.479,  0.323],\n",
              "       [-0.13 , -0.474, -0.479, -0.144],\n",
              "       [-0.85 ,  0.395, -0.479, -0.154],\n",
              "       [-0.13 , -0.474, -0.479, -0.482],\n",
              "       [ 2.267, -0.474, -0.479,  2.054],\n",
              "       [ 0.429, -0.474, -0.479,  8.754],\n",
              "       [-0.13 , -0.474, -0.479, -0.501],\n",
              "       [ 0.669, -0.474, -0.479,  3.538],\n",
              "       [-0.69 , -0.474, -0.479,  0.716],\n",
              "       [-0.13 , -0.474, -0.479, -0.482],\n",
              "       [-0.93 , -0.474, -0.479, -0.419],\n",
              "       [ 1.468, -0.474, -0.479, -0.144],\n",
              "       [ 0.509,  0.395,  0.782, -0.187],\n",
              "       [-0.93 , -0.474, -0.479, -0.392],\n",
              "       [-0.85 , -0.474, -0.479, -0.08 ],\n",
              "       [-0.45 ,  1.264, -0.479,  0.716],\n",
              "       [-0.53 , -0.474, -0.479, -0.485],\n",
              "       [-2.208, -0.474,  0.782, -0.438],\n",
              "       [-0.29 , -0.474, -0.479, -0.485],\n",
              "       [-0.21 ,  0.395, -0.479,  0.343],\n",
              "       [-0.61 ,  0.395,  2.043,  0.132],\n",
              "       [-2.049, -0.474,  2.043, -0.226],\n",
              "       [ 0.509, -0.474, -0.479, -0.437],\n",
              "       [-2.308,  1.264,  0.782, -0.277],\n",
              "       [-0.45 , -0.474, -0.479, -0.392],\n",
              "       [ 0.509,  0.395, -0.479, -0.311],\n",
              "       [-0.13 ,  0.395, -0.479, -0.339],\n",
              "       [ 1.068,  0.395,  0.782, -0.149],\n",
              "       [-0.85 , -0.474, -0.479, -0.437],\n",
              "       [-0.61 , -0.474, -0.479,  2.146],\n",
              "       [ 1.708, -0.474,  0.782,  0.494],\n",
              "       [-0.13 , -0.474, -0.479, -0.488],\n",
              "       [-0.13 , -0.474, -0.479, -0.488],\n",
              "       [ 0.749,  0.395,  5.827, -0.057],\n",
              "       [-0.13 , -0.474,  2.043, -0.488],\n",
              "       [-0.85 , -0.474, -0.479, -0.487],\n",
              "       [-0.93 , -0.474, -0.479, -0.487],\n",
              "       [-0.13 , -0.474, -0.479, -0.497],\n",
              "       [ 2.108, -0.474, -0.479, -0.144],\n",
              "       [-0.13 ,  0.395,  2.043, -0.2  ],\n",
              "       [ 2.587, -0.474, -0.479, -0.437],\n",
              "       [ 0.349, -0.474, -0.479, -0.437],\n",
              "       [ 0.069, -0.474, -0.479, -0.482],\n",
              "       [ 0.669, -0.474,  0.782,  2.181],\n",
              "       [ 0.269, -0.474,  2.043, -0.154],\n",
              "       [ 1.548, -0.474, -0.479, -0.155],\n",
              "       [-0.53 , -0.474, -0.479, -0.392],\n",
              "       [ 0.909,  1.264, -0.479, -0.371],\n",
              "       [-0.37 ,  0.395, -0.479,  1.038],\n",
              "       [ 1.628, -0.474,  0.782, -0.154],\n",
              "       [-0.13 , -0.474, -0.479, -0.482],\n",
              "       [ 2.267, -0.474,  0.782,  2.181],\n",
              "       [-0.13 , -0.474, -0.479, -0.497],\n",
              "       [-0.13 , -0.474, -0.479, -0.485],\n",
              "       [ 1.708,  0.395, -0.479,  0.798],\n",
              "       [-0.45 , -0.474,  0.782,  3.904],\n",
              "       [-0.37 , -0.474, -0.479, -0.488],\n",
              "       [ 0.269, -0.474, -0.479, -0.405],\n",
              "       [ 0.269,  0.395,  2.043, -0.122],\n",
              "       [ 0.669, -0.474, -0.479, -0.392],\n",
              "       [ 0.029, -0.474, -0.479, -0.392],\n",
              "       [-0.13 , -0.474, -0.479,  0.323],\n",
              "       [ 0.349, -0.474, -0.479, -0.144],\n",
              "       [ 2.427,  0.395,  0.782,  0.085],\n",
              "       [ 1.228,  0.395,  0.782,  2.39 ],\n",
              "       [-0.13 , -0.474, -0.479, -0.485],\n",
              "       [-1.969,  1.264,  0.782, -0.277],\n",
              "       [-0.13 , -0.474, -0.479, -0.485],\n",
              "       [ 1.628,  0.395, -0.479,  1.319],\n",
              "       [-0.37 , -0.474, -0.479, -0.501],\n",
              "       [-0.13 ,  0.395, -0.479, -0.346],\n",
              "       [ 0.429, -0.474, -0.479, -0.485],\n",
              "       [-0.77 , -0.474, -0.479, -0.482],\n",
              "       [-1.089, -0.474, -0.479, -0.482]], dtype=float32)"
            ]
          },
          "metadata": {},
          "execution_count": 44
        }
      ]
    },
    {
      "cell_type": "markdown",
      "source": [
        "A normalização baseada em média usada aqui requer conhecer os meios de cada coluna antes do tempo."
      ],
      "metadata": {
        "id": "8fypSOY4I8wD"
      }
    },
    {
      "cell_type": "markdown",
      "source": [
        "**Dados categóricos**\n",
        "\n",
        "Algumas das colunas nos dados CSV são colunas categóricas. Ou seja, o conteúdo deve ser um dentre um conjunto limitado de opções.\n",
        "\n",
        "Use a API `tf.feature_column` para criar uma coleção com uma `tf.feature_column.indicator_column` para cada coluna categórica.\n",
        "\n"
      ],
      "metadata": {
        "id": "CzlWhbF6FMbk"
      }
    },
    {
      "cell_type": "code",
      "source": [
        "CATEGORIES = {\n",
        "    'sex': ['male', 'female'],\n",
        "    'class': ['First', 'Second', 'Third'],\n",
        "    'deck': ['A', 'B', 'C', 'D', 'E', 'F', 'G', 'H', 'I', 'J'],\n",
        "    'embark_town': ['Cherbourg', 'Southhampton', 'Queenstown'],\n",
        "    'alone': ['y', 'n']\n",
        "}\n",
        "\n",
        "CATEGORIES "
      ],
      "metadata": {
        "colab": {
          "base_uri": "https://localhost:8080/"
        },
        "id": "anh-L8Eop-di",
        "outputId": "82f23593-695c-4847-aa8f-40332a4948a2"
      },
      "execution_count": 45,
      "outputs": [
        {
          "output_type": "execute_result",
          "data": {
            "text/plain": [
              "{'sex': ['male', 'female'],\n",
              " 'class': ['First', 'Second', 'Third'],\n",
              " 'deck': ['A', 'B', 'C', 'D', 'E', 'F', 'G', 'H', 'I', 'J'],\n",
              " 'embark_town': ['Cherbourg', 'Southhampton', 'Queenstown'],\n",
              " 'alone': ['y', 'n']}"
            ]
          },
          "metadata": {},
          "execution_count": 45
        }
      ]
    },
    {
      "cell_type": "code",
      "source": [
        "('A B C D E F G H I J').split()"
      ],
      "metadata": {
        "colab": {
          "base_uri": "https://localhost:8080/"
        },
        "id": "T-rW-q2mTvzI",
        "outputId": "25b9af08-77e2-4ee9-f457-b532745ce1b5"
      },
      "execution_count": 46,
      "outputs": [
        {
          "output_type": "execute_result",
          "data": {
            "text/plain": [
              "['A', 'B', 'C', 'D', 'E', 'F', 'G', 'H', 'I', 'J']"
            ]
          },
          "metadata": {},
          "execution_count": 46
        }
      ]
    },
    {
      "cell_type": "code",
      "source": [
        "CATEGORIES = {\n",
        "    'sex': ('male female').split(),\n",
        "    'class': ('First Second Third').split(),\n",
        "    'deck': ('A B C D E F G H I J').split(),\n",
        "    'embark_town': ('Cherbourg Southhampton Queenstown').split(),\n",
        "    'alone': ('y n').split()\n",
        "}\n",
        "\n",
        "CATEGORIES"
      ],
      "metadata": {
        "colab": {
          "base_uri": "https://localhost:8080/"
        },
        "id": "Z7Bfn-f1p-XK",
        "outputId": "ef1fa2cf-7bd0-4fad-b965-41f5f0756850"
      },
      "execution_count": 47,
      "outputs": [
        {
          "output_type": "execute_result",
          "data": {
            "text/plain": [
              "{'sex': ['male', 'female'],\n",
              " 'class': ['First', 'Second', 'Third'],\n",
              " 'deck': ['A', 'B', 'C', 'D', 'E', 'F', 'G', 'H', 'I', 'J'],\n",
              " 'embark_town': ['Cherbourg', 'Southhampton', 'Queenstown'],\n",
              " 'alone': ['y', 'n']}"
            ]
          },
          "metadata": {},
          "execution_count": 47
        }
      ]
    },
    {
      "cell_type": "code",
      "source": [
        "categorical_columns = []\n",
        "\n",
        "for feature, vocab in CATEGORIES.items():\n",
        "    cat_col = tf.feature_column.categorical_column_with_vocabulary_list(\n",
        "        key=feature, vocabulary_list=vocab\n",
        "    )\n",
        "\n",
        "    categorical_columns.append(tf.feature_column.indicator_column(cat_col))"
      ],
      "metadata": {
        "id": "h7aue9hBp-U9"
      },
      "execution_count": 48,
      "outputs": []
    },
    {
      "cell_type": "code",
      "source": [
        "categorical_columns"
      ],
      "metadata": {
        "colab": {
          "base_uri": "https://localhost:8080/"
        },
        "id": "g46xafdUp-Px",
        "outputId": "6ace0c8b-8e86-4d8c-a7d3-7ad9fce0f767"
      },
      "execution_count": 49,
      "outputs": [
        {
          "output_type": "execute_result",
          "data": {
            "text/plain": [
              "[IndicatorColumn(categorical_column=VocabularyListCategoricalColumn(key='sex', vocabulary_list=('male', 'female'), dtype=tf.string, default_value=-1, num_oov_buckets=0)),\n",
              " IndicatorColumn(categorical_column=VocabularyListCategoricalColumn(key='class', vocabulary_list=('First', 'Second', 'Third'), dtype=tf.string, default_value=-1, num_oov_buckets=0)),\n",
              " IndicatorColumn(categorical_column=VocabularyListCategoricalColumn(key='deck', vocabulary_list=('A', 'B', 'C', 'D', 'E', 'F', 'G', 'H', 'I', 'J'), dtype=tf.string, default_value=-1, num_oov_buckets=0)),\n",
              " IndicatorColumn(categorical_column=VocabularyListCategoricalColumn(key='embark_town', vocabulary_list=('Cherbourg', 'Southhampton', 'Queenstown'), dtype=tf.string, default_value=-1, num_oov_buckets=0)),\n",
              " IndicatorColumn(categorical_column=VocabularyListCategoricalColumn(key='alone', vocabulary_list=('y', 'n'), dtype=tf.string, default_value=-1, num_oov_buckets=0))]"
            ]
          },
          "metadata": {},
          "execution_count": 49
        }
      ]
    },
    {
      "cell_type": "code",
      "source": [
        "categorical_layer = tf.keras.layers.DenseFeatures(categorical_columns)"
      ],
      "metadata": {
        "id": "-TJUJvpVp-Oi"
      },
      "execution_count": 50,
      "outputs": []
    },
    {
      "cell_type": "code",
      "source": [
        "print(categorical_layer(example_batch).numpy()[0])"
      ],
      "metadata": {
        "colab": {
          "base_uri": "https://localhost:8080/"
        },
        "id": "ypJjjo_Ip-LM",
        "outputId": "9e08d8ad-1c09-442e-880b-1ff60a734c66"
      },
      "execution_count": 51,
      "outputs": [
        {
          "output_type": "stream",
          "name": "stdout",
          "text": [
            "[1. 0. 1. 0. 0. 1. 0. 0. 0. 0. 0. 0. 0. 0. 0. 0. 0. 0. 1. 0.]\n"
          ]
        }
      ]
    },
    {
      "cell_type": "markdown",
      "source": [
        "Isso fará parte de uma entrada de processamento de dados posteriormente, quando você construir o modelo.\n",
        "\n"
      ],
      "metadata": {
        "id": "TeC_-NJKJJYL"
      }
    },
    {
      "cell_type": "markdown",
      "source": [
        "**Camada combinada de pré-processamento**\n",
        "\n",
        "Adicione as duas coleções de colunas de recursos e passe-as para um `tf.keras.layers.DenseFeatures` para criar uma camada de entrada que extrairá e pré-processará os dois tipos de entrada:"
      ],
      "metadata": {
        "id": "tJEs4ubkJMa_"
      }
    },
    {
      "cell_type": "code",
      "source": [
        "preprocessing_layer = tf.keras.layers.DenseFeatures(categorical_columns + numeric_columns)"
      ],
      "metadata": {
        "id": "OX9W4m7ep-JJ"
      },
      "execution_count": 52,
      "outputs": []
    },
    {
      "cell_type": "code",
      "source": [
        "print(preprocessing_layer(example_batch).numpy()[0])"
      ],
      "metadata": {
        "colab": {
          "base_uri": "https://localhost:8080/"
        },
        "id": "h5UqQicEp-F0",
        "outputId": "50eca6d9-a310-4260-b2a3-3bc304c98290"
      },
      "execution_count": 53,
      "outputs": [
        {
          "output_type": "stream",
          "name": "stdout",
          "text": [
            "[ 1.     0.     1.     0.     0.     1.     0.     0.     0.     0.\n",
            "  0.     0.     0.     0.     0.     0.     0.     0.     4.026 -0.474\n",
            " -0.479 -0.08   1.     0.   ]\n"
          ]
        }
      ]
    },
    {
      "cell_type": "markdown",
      "source": [
        "#### **4. Construir o modelo**"
      ],
      "metadata": {
        "id": "bdN_rM-bJam5"
      }
    },
    {
      "cell_type": "markdown",
      "source": [
        "Crie um `tf.keras.Sequential`, começando com o `preprocessing_layer`."
      ],
      "metadata": {
        "id": "GlJaWD8qJm8y"
      }
    },
    {
      "cell_type": "code",
      "source": [
        "model = tf.keras.Sequential([\n",
        "    preprocessing_layer, \n",
        "    tf.keras.layers.Dense(128, activation='relu'),\n",
        "    tf.keras.layers.Dense(128, activation='relu'),\n",
        "    tf.keras.layers.Dense(1)\n",
        "])"
      ],
      "metadata": {
        "id": "baPr5J6-p-DJ"
      },
      "execution_count": 54,
      "outputs": []
    },
    {
      "cell_type": "code",
      "source": [
        "model.compile(\n",
        "    loss=tf.keras.losses.BinaryCrossentropy(from_logits=True),\n",
        "    optimizer='adam',\n",
        "    metrics=['accuracy']\n",
        ")"
      ],
      "metadata": {
        "id": "uBLhSs-2cmA-"
      },
      "execution_count": 55,
      "outputs": []
    },
    {
      "cell_type": "markdown",
      "source": [
        "#### **5.Treinar, avaliar, e prever**\n"
      ],
      "metadata": {
        "id": "MZZRvfEyJx5f"
      }
    },
    {
      "cell_type": "markdown",
      "source": [
        "Agora o modelo pode ser instanciado e treinado."
      ],
      "metadata": {
        "id": "J9qFrn3eJ5tl"
      }
    },
    {
      "cell_type": "code",
      "source": [
        "train_data = packed_train_data.shuffle(500)\n",
        "test_data = packed_test_data"
      ],
      "metadata": {
        "id": "CdVxIl-2cl_z"
      },
      "execution_count": 56,
      "outputs": []
    },
    {
      "cell_type": "code",
      "source": [
        "model.fit(train_data, epochs=20, \n",
        "          validation_data=test_data)"
      ],
      "metadata": {
        "colab": {
          "base_uri": "https://localhost:8080/"
        },
        "id": "_N2mwx6ncl-t",
        "outputId": "36ab3f46-fe08-49fd-d918-e2cff798d6ae"
      },
      "execution_count": 57,
      "outputs": [
        {
          "output_type": "stream",
          "name": "stdout",
          "text": [
            "Epoch 1/20\n"
          ]
        },
        {
          "output_type": "stream",
          "name": "stderr",
          "text": [
            "WARNING:tensorflow:Layers in a Sequential model should only have a single input tensor. Received: inputs=OrderedDict([('sex', <tf.Tensor 'IteratorGetNext:5' shape=(None,) dtype=string>), ('class', <tf.Tensor 'IteratorGetNext:1' shape=(None,) dtype=string>), ('deck', <tf.Tensor 'IteratorGetNext:2' shape=(None,) dtype=string>), ('embark_town', <tf.Tensor 'IteratorGetNext:3' shape=(None,) dtype=string>), ('alone', <tf.Tensor 'IteratorGetNext:0' shape=(None,) dtype=string>), ('numeric', <tf.Tensor 'IteratorGetNext:4' shape=(None, 4) dtype=float32>)]). Consider rewriting this model with the Functional API.\n",
            "WARNING:tensorflow:Layers in a Sequential model should only have a single input tensor. Received: inputs=OrderedDict([('sex', <tf.Tensor 'IteratorGetNext:5' shape=(None,) dtype=string>), ('class', <tf.Tensor 'IteratorGetNext:1' shape=(None,) dtype=string>), ('deck', <tf.Tensor 'IteratorGetNext:2' shape=(None,) dtype=string>), ('embark_town', <tf.Tensor 'IteratorGetNext:3' shape=(None,) dtype=string>), ('alone', <tf.Tensor 'IteratorGetNext:0' shape=(None,) dtype=string>), ('numeric', <tf.Tensor 'IteratorGetNext:4' shape=(None, 4) dtype=float32>)]). Consider rewriting this model with the Functional API.\n"
          ]
        },
        {
          "output_type": "stream",
          "name": "stdout",
          "text": [
            "\r      1/Unknown - 4s 4s/step - loss: 0.7131 - accuracy: 0.6400"
          ]
        },
        {
          "output_type": "stream",
          "name": "stderr",
          "text": [
            "WARNING:tensorflow:Layers in a Sequential model should only have a single input tensor. Received: inputs=OrderedDict([('sex', <tf.Tensor 'IteratorGetNext:5' shape=(None,) dtype=string>), ('class', <tf.Tensor 'IteratorGetNext:1' shape=(None,) dtype=string>), ('deck', <tf.Tensor 'IteratorGetNext:2' shape=(None,) dtype=string>), ('embark_town', <tf.Tensor 'IteratorGetNext:3' shape=(None,) dtype=string>), ('alone', <tf.Tensor 'IteratorGetNext:0' shape=(None,) dtype=string>), ('numeric', <tf.Tensor 'IteratorGetNext:4' shape=(None, 4) dtype=float32>)]). Consider rewriting this model with the Functional API.\n"
          ]
        },
        {
          "output_type": "stream",
          "name": "stdout",
          "text": [
            "\b\b\b\b\b\b\b\b\b\b\b\b\b\b\b\b\b\b\b\b\b\b\b\b\b\b\b\b\b\b\b\b\b\b\b\b\b\b\b\b\b\b\b\b\b\b\b\b\b\b\b\b\b\b\b\b\b\b\b\b\b\b\r7/7 [==============================] - 6s 429ms/step - loss: 0.6582 - accuracy: 0.6124 - val_loss: 0.6008 - val_accuracy: 0.6288\n",
            "Epoch 2/20\n",
            "7/7 [==============================] - 0s 39ms/step - loss: 0.5542 - accuracy: 0.6587 - val_loss: 0.5425 - val_accuracy: 0.7159\n",
            "Epoch 3/20\n",
            "7/7 [==============================] - 1s 48ms/step - loss: 0.4926 - accuracy: 0.7464 - val_loss: 0.5038 - val_accuracy: 0.7462\n",
            "Epoch 4/20\n",
            "7/7 [==============================] - 0s 39ms/step - loss: 0.4553 - accuracy: 0.7847 - val_loss: 0.4778 - val_accuracy: 0.7727\n",
            "Epoch 5/20\n",
            "7/7 [==============================] - 0s 57ms/step - loss: 0.4286 - accuracy: 0.8150 - val_loss: 0.4648 - val_accuracy: 0.7879\n",
            "Epoch 6/20\n",
            "7/7 [==============================] - 1s 86ms/step - loss: 0.4128 - accuracy: 0.8293 - val_loss: 0.4584 - val_accuracy: 0.7917\n",
            "Epoch 7/20\n",
            "7/7 [==============================] - 1s 115ms/step - loss: 0.4048 - accuracy: 0.8262 - val_loss: 0.4559 - val_accuracy: 0.7917\n",
            "Epoch 8/20\n",
            "7/7 [==============================] - 1s 87ms/step - loss: 0.3987 - accuracy: 0.8341 - val_loss: 0.4493 - val_accuracy: 0.7917\n",
            "Epoch 9/20\n",
            "7/7 [==============================] - 1s 106ms/step - loss: 0.3919 - accuracy: 0.8405 - val_loss: 0.4431 - val_accuracy: 0.7992\n",
            "Epoch 10/20\n",
            "7/7 [==============================] - 1s 89ms/step - loss: 0.3872 - accuracy: 0.8373 - val_loss: 0.4382 - val_accuracy: 0.8030\n",
            "Epoch 11/20\n",
            "7/7 [==============================] - 1s 60ms/step - loss: 0.3820 - accuracy: 0.8357 - val_loss: 0.4359 - val_accuracy: 0.8106\n",
            "Epoch 12/20\n",
            "7/7 [==============================] - 1s 142ms/step - loss: 0.3785 - accuracy: 0.8373 - val_loss: 0.4329 - val_accuracy: 0.8106\n",
            "Epoch 13/20\n",
            "7/7 [==============================] - 0s 40ms/step - loss: 0.3754 - accuracy: 0.8421 - val_loss: 0.4311 - val_accuracy: 0.8220\n",
            "Epoch 14/20\n",
            "7/7 [==============================] - 1s 90ms/step - loss: 0.3723 - accuracy: 0.8421 - val_loss: 0.4337 - val_accuracy: 0.8220\n",
            "Epoch 15/20\n",
            "7/7 [==============================] - 1s 96ms/step - loss: 0.3680 - accuracy: 0.8437 - val_loss: 0.4350 - val_accuracy: 0.8144\n",
            "Epoch 16/20\n",
            "7/7 [==============================] - 0s 34ms/step - loss: 0.3652 - accuracy: 0.8501 - val_loss: 0.4331 - val_accuracy: 0.8258\n",
            "Epoch 17/20\n",
            "7/7 [==============================] - 0s 27ms/step - loss: 0.3653 - accuracy: 0.8357 - val_loss: 0.4277 - val_accuracy: 0.8258\n",
            "Epoch 18/20\n",
            "7/7 [==============================] - 0s 28ms/step - loss: 0.3615 - accuracy: 0.8421 - val_loss: 0.4298 - val_accuracy: 0.8333\n",
            "Epoch 19/20\n",
            "7/7 [==============================] - 0s 30ms/step - loss: 0.3578 - accuracy: 0.8389 - val_loss: 0.4312 - val_accuracy: 0.8258\n",
            "Epoch 20/20\n",
            "7/7 [==============================] - 0s 47ms/step - loss: 0.3560 - accuracy: 0.8501 - val_loss: 0.4383 - val_accuracy: 0.8258\n"
          ]
        },
        {
          "output_type": "execute_result",
          "data": {
            "text/plain": [
              "<keras.callbacks.History at 0x7f0c683557c0>"
            ]
          },
          "metadata": {},
          "execution_count": 57
        }
      ]
    },
    {
      "cell_type": "markdown",
      "source": [
        "Depois que o modelo é treinado, você pode verificar sua acurácia no conjunto `test_data`."
      ],
      "metadata": {
        "id": "_qKtu3roKD2Y"
      }
    },
    {
      "cell_type": "code",
      "source": [
        "test_loss, test_accuracy = model.evaluate(test_data)\n",
        "\n",
        "print('\\n\\nTest Loss: {} | Test Accuracy: {}'.format(test_loss, test_accuracy))"
      ],
      "metadata": {
        "colab": {
          "base_uri": "https://localhost:8080/"
        },
        "id": "EXQ-ZwiRcl1p",
        "outputId": "138f6027-1fc9-409d-a140-3b4ed31452ca"
      },
      "execution_count": 58,
      "outputs": [
        {
          "output_type": "stream",
          "name": "stdout",
          "text": [
            "3/3 [==============================] - 0s 16ms/step - loss: 0.4383 - accuracy: 0.8258\n",
            "\n",
            "\n",
            "Test Loss: 0.43833836913108826 | Test Accuracy: 0.8257575631141663\n"
          ]
        }
      ]
    },
    {
      "cell_type": "markdown",
      "source": [
        "Use `tf.keras.Model.predict` para inferir rótulos em um lote ou em um conjunto de dados de lotes."
      ],
      "metadata": {
        "id": "xrFwmIaTKKWh"
      }
    },
    {
      "cell_type": "code",
      "source": [
        "predictions = model.predict(test_data)\n",
        "\n",
        "for prediction, survived in zip(predictions[:10], list(test_data)[0][1][:10]):\n",
        "    print('Predicted survival: {:.2%}'.format(prediction[0]),\n",
        "          ' | Actual outcome: ',\n",
        "          ('SURVIVED' if bool(survived) else 'DIED'))"
      ],
      "metadata": {
        "colab": {
          "base_uri": "https://localhost:8080/"
        },
        "id": "kBt4et0Zclsr",
        "outputId": "be5d6a9d-044c-4c97-a350-888364498cb7"
      },
      "execution_count": 59,
      "outputs": [
        {
          "output_type": "stream",
          "name": "stderr",
          "text": [
            "WARNING:tensorflow:Layers in a Sequential model should only have a single input tensor. Received: inputs=OrderedDict([('sex', <tf.Tensor 'IteratorGetNext:5' shape=(None,) dtype=string>), ('class', <tf.Tensor 'IteratorGetNext:1' shape=(None,) dtype=string>), ('deck', <tf.Tensor 'IteratorGetNext:2' shape=(None,) dtype=string>), ('embark_town', <tf.Tensor 'IteratorGetNext:3' shape=(None,) dtype=string>), ('alone', <tf.Tensor 'IteratorGetNext:0' shape=(None,) dtype=string>), ('numeric', <tf.Tensor 'IteratorGetNext:4' shape=(None, 4) dtype=float32>)]). Consider rewriting this model with the Functional API.\n"
          ]
        },
        {
          "output_type": "stream",
          "name": "stdout",
          "text": [
            "3/3 [==============================] - 1s 15ms/step\n",
            "Predicted survival: 42.11%  | Actual outcome:  DIED\n",
            "Predicted survival: 389.54%  | Actual outcome:  DIED\n",
            "Predicted survival: 37.39%  | Actual outcome:  DIED\n",
            "Predicted survival: 29.65%  | Actual outcome:  DIED\n",
            "Predicted survival: -43.78%  | Actual outcome:  SURVIVED\n",
            "Predicted survival: 218.56%  | Actual outcome:  DIED\n",
            "Predicted survival: 161.74%  | Actual outcome:  SURVIVED\n",
            "Predicted survival: -13.55%  | Actual outcome:  SURVIVED\n",
            "Predicted survival: -205.13%  | Actual outcome:  DIED\n",
            "Predicted survival: 139.54%  | Actual outcome:  DIED\n"
          ]
        }
      ]
    },
    {
      "cell_type": "code",
      "source": [
        "EPOCHS = 30\n",
        "\n",
        "history = model.fit(train_data, epochs=EPOCHS, \n",
        "                    validation_data=test_data)"
      ],
      "metadata": {
        "id": "gTMxlvE4clrr",
        "colab": {
          "base_uri": "https://localhost:8080/"
        },
        "outputId": "5a604f4b-c703-41fe-dbc2-8d3bf22e0b54"
      },
      "execution_count": 60,
      "outputs": [
        {
          "output_type": "stream",
          "name": "stdout",
          "text": [
            "Epoch 1/30\n",
            "7/7 [==============================] - 0s 68ms/step - loss: 0.3586 - accuracy: 0.8549 - val_loss: 0.4477 - val_accuracy: 0.8182\n",
            "Epoch 2/30\n",
            "7/7 [==============================] - 0s 24ms/step - loss: 0.3560 - accuracy: 0.8453 - val_loss: 0.4345 - val_accuracy: 0.8182\n",
            "Epoch 3/30\n",
            "7/7 [==============================] - 0s 39ms/step - loss: 0.3488 - accuracy: 0.8533 - val_loss: 0.4377 - val_accuracy: 0.8144\n",
            "Epoch 4/30\n",
            "7/7 [==============================] - 0s 31ms/step - loss: 0.3485 - accuracy: 0.8437 - val_loss: 0.4283 - val_accuracy: 0.8295\n",
            "Epoch 5/30\n",
            "7/7 [==============================] - 0s 33ms/step - loss: 0.3464 - accuracy: 0.8437 - val_loss: 0.4314 - val_accuracy: 0.8295\n",
            "Epoch 6/30\n",
            "7/7 [==============================] - 0s 45ms/step - loss: 0.3434 - accuracy: 0.8469 - val_loss: 0.4315 - val_accuracy: 0.8333\n",
            "Epoch 7/30\n",
            "7/7 [==============================] - 0s 31ms/step - loss: 0.3407 - accuracy: 0.8549 - val_loss: 0.4249 - val_accuracy: 0.8333\n",
            "Epoch 8/30\n",
            "7/7 [==============================] - 0s 30ms/step - loss: 0.3384 - accuracy: 0.8517 - val_loss: 0.4258 - val_accuracy: 0.8371\n",
            "Epoch 9/30\n",
            "7/7 [==============================] - 0s 37ms/step - loss: 0.3361 - accuracy: 0.8517 - val_loss: 0.4276 - val_accuracy: 0.8371\n",
            "Epoch 10/30\n",
            "7/7 [==============================] - 1s 55ms/step - loss: 0.3329 - accuracy: 0.8485 - val_loss: 0.4361 - val_accuracy: 0.8447\n",
            "Epoch 11/30\n",
            "7/7 [==============================] - 1s 55ms/step - loss: 0.3328 - accuracy: 0.8565 - val_loss: 0.4288 - val_accuracy: 0.8409\n",
            "Epoch 12/30\n",
            "7/7 [==============================] - 0s 42ms/step - loss: 0.3302 - accuracy: 0.8549 - val_loss: 0.4274 - val_accuracy: 0.8371\n",
            "Epoch 13/30\n",
            "7/7 [==============================] - 0s 50ms/step - loss: 0.3272 - accuracy: 0.8596 - val_loss: 0.4357 - val_accuracy: 0.8561\n",
            "Epoch 14/30\n",
            "7/7 [==============================] - 0s 32ms/step - loss: 0.3276 - accuracy: 0.8581 - val_loss: 0.4294 - val_accuracy: 0.8409\n",
            "Epoch 15/30\n",
            "7/7 [==============================] - 0s 30ms/step - loss: 0.3240 - accuracy: 0.8565 - val_loss: 0.4311 - val_accuracy: 0.8409\n",
            "Epoch 16/30\n",
            "7/7 [==============================] - 0s 34ms/step - loss: 0.3226 - accuracy: 0.8549 - val_loss: 0.4343 - val_accuracy: 0.8409\n",
            "Epoch 17/30\n",
            "7/7 [==============================] - 0s 21ms/step - loss: 0.3216 - accuracy: 0.8533 - val_loss: 0.4327 - val_accuracy: 0.8447\n",
            "Epoch 18/30\n",
            "7/7 [==============================] - 0s 16ms/step - loss: 0.3231 - accuracy: 0.8549 - val_loss: 0.4398 - val_accuracy: 0.8485\n",
            "Epoch 19/30\n",
            "7/7 [==============================] - 0s 14ms/step - loss: 0.3195 - accuracy: 0.8596 - val_loss: 0.4337 - val_accuracy: 0.8409\n",
            "Epoch 20/30\n",
            "7/7 [==============================] - 0s 21ms/step - loss: 0.3169 - accuracy: 0.8612 - val_loss: 0.4332 - val_accuracy: 0.8409\n",
            "Epoch 21/30\n",
            "7/7 [==============================] - 0s 14ms/step - loss: 0.3147 - accuracy: 0.8612 - val_loss: 0.4430 - val_accuracy: 0.8485\n",
            "Epoch 22/30\n",
            "7/7 [==============================] - 0s 14ms/step - loss: 0.3157 - accuracy: 0.8612 - val_loss: 0.4346 - val_accuracy: 0.8447\n",
            "Epoch 23/30\n",
            "7/7 [==============================] - 0s 15ms/step - loss: 0.3122 - accuracy: 0.8581 - val_loss: 0.4349 - val_accuracy: 0.8447\n",
            "Epoch 24/30\n",
            "7/7 [==============================] - 0s 21ms/step - loss: 0.3099 - accuracy: 0.8612 - val_loss: 0.4391 - val_accuracy: 0.8485\n",
            "Epoch 25/30\n",
            "7/7 [==============================] - 0s 21ms/step - loss: 0.3069 - accuracy: 0.8612 - val_loss: 0.4331 - val_accuracy: 0.8447\n",
            "Epoch 26/30\n",
            "7/7 [==============================] - 0s 20ms/step - loss: 0.3060 - accuracy: 0.8581 - val_loss: 0.4365 - val_accuracy: 0.8447\n",
            "Epoch 27/30\n",
            "7/7 [==============================] - 0s 21ms/step - loss: 0.3034 - accuracy: 0.8644 - val_loss: 0.4374 - val_accuracy: 0.8447\n",
            "Epoch 28/30\n",
            "7/7 [==============================] - 0s 17ms/step - loss: 0.3036 - accuracy: 0.8676 - val_loss: 0.4528 - val_accuracy: 0.8409\n",
            "Epoch 29/30\n",
            "7/7 [==============================] - 0s 16ms/step - loss: 0.3050 - accuracy: 0.8692 - val_loss: 0.4484 - val_accuracy: 0.8333\n",
            "Epoch 30/30\n",
            "7/7 [==============================] - 0s 15ms/step - loss: 0.2998 - accuracy: 0.8660 - val_loss: 0.4374 - val_accuracy: 0.8485\n"
          ]
        }
      ]
    },
    {
      "cell_type": "code",
      "source": [
        "history.history"
      ],
      "metadata": {
        "id": "5kacjnzIclqm",
        "colab": {
          "base_uri": "https://localhost:8080/"
        },
        "outputId": "c29a2d96-99ab-44f6-dc05-b04c1a8dca59"
      },
      "execution_count": 61,
      "outputs": [
        {
          "output_type": "execute_result",
          "data": {
            "text/plain": [
              "{'loss': [0.35856133699417114,\n",
              "  0.3559688925743103,\n",
              "  0.34880802035331726,\n",
              "  0.3484901487827301,\n",
              "  0.3464476764202118,\n",
              "  0.3434212803840637,\n",
              "  0.340709924697876,\n",
              "  0.33842673897743225,\n",
              "  0.3361249268054962,\n",
              "  0.33291274309158325,\n",
              "  0.33280953764915466,\n",
              "  0.3302273154258728,\n",
              "  0.32722121477127075,\n",
              "  0.327571839094162,\n",
              "  0.32401394844055176,\n",
              "  0.3226124048233032,\n",
              "  0.3216422200202942,\n",
              "  0.32308298349380493,\n",
              "  0.31950703263282776,\n",
              "  0.31691327691078186,\n",
              "  0.3146587610244751,\n",
              "  0.3156889081001282,\n",
              "  0.3121761679649353,\n",
              "  0.3099035620689392,\n",
              "  0.3068755567073822,\n",
              "  0.30603280663490295,\n",
              "  0.3033793270587921,\n",
              "  0.3035846948623657,\n",
              "  0.3050065338611603,\n",
              "  0.29981759190559387],\n",
              " 'accuracy': [0.8548644185066223,\n",
              "  0.8452950716018677,\n",
              "  0.8532695174217224,\n",
              "  0.8437001705169678,\n",
              "  0.8437001705169678,\n",
              "  0.8468899726867676,\n",
              "  0.8548644185066223,\n",
              "  0.8516746163368225,\n",
              "  0.8516746163368225,\n",
              "  0.8484848737716675,\n",
              "  0.8564593195915222,\n",
              "  0.8548644185066223,\n",
              "  0.859649121761322,\n",
              "  0.8580542206764221,\n",
              "  0.8564593195915222,\n",
              "  0.8548644185066223,\n",
              "  0.8532695174217224,\n",
              "  0.8548644185066223,\n",
              "  0.859649121761322,\n",
              "  0.8612440228462219,\n",
              "  0.8612440228462219,\n",
              "  0.8612440228462219,\n",
              "  0.8580542206764221,\n",
              "  0.8612440228462219,\n",
              "  0.8612440228462219,\n",
              "  0.8580542206764221,\n",
              "  0.8644338250160217,\n",
              "  0.8676236271858215,\n",
              "  0.8692185282707214,\n",
              "  0.8660287261009216],\n",
              " 'val_loss': [0.44773069024086,\n",
              "  0.4345032572746277,\n",
              "  0.4377215504646301,\n",
              "  0.4283280670642853,\n",
              "  0.43142613768577576,\n",
              "  0.431497186422348,\n",
              "  0.42491862177848816,\n",
              "  0.42583274841308594,\n",
              "  0.42764362692832947,\n",
              "  0.4360730051994324,\n",
              "  0.4287900924682617,\n",
              "  0.42737147212028503,\n",
              "  0.43569159507751465,\n",
              "  0.4294346272945404,\n",
              "  0.43106594681739807,\n",
              "  0.43425583839416504,\n",
              "  0.43267592787742615,\n",
              "  0.4397721290588379,\n",
              "  0.4337124228477478,\n",
              "  0.4332468807697296,\n",
              "  0.4430203437805176,\n",
              "  0.43464553356170654,\n",
              "  0.4349151849746704,\n",
              "  0.4390539824962616,\n",
              "  0.4330604374408722,\n",
              "  0.4364880621433258,\n",
              "  0.43737566471099854,\n",
              "  0.45277756452560425,\n",
              "  0.4483729600906372,\n",
              "  0.4374234080314636],\n",
              " 'val_accuracy': [0.8181818127632141,\n",
              "  0.8181818127632141,\n",
              "  0.814393937587738,\n",
              "  0.8295454382896423,\n",
              "  0.8295454382896423,\n",
              "  0.8333333134651184,\n",
              "  0.8333333134651184,\n",
              "  0.8371211886405945,\n",
              "  0.8371211886405945,\n",
              "  0.8446969985961914,\n",
              "  0.8409090638160706,\n",
              "  0.8371211886405945,\n",
              "  0.8560606241226196,\n",
              "  0.8409090638160706,\n",
              "  0.8409090638160706,\n",
              "  0.8409090638160706,\n",
              "  0.8446969985961914,\n",
              "  0.8484848737716675,\n",
              "  0.8409090638160706,\n",
              "  0.8409090638160706,\n",
              "  0.8484848737716675,\n",
              "  0.8446969985961914,\n",
              "  0.8446969985961914,\n",
              "  0.8484848737716675,\n",
              "  0.8446969985961914,\n",
              "  0.8446969985961914,\n",
              "  0.8446969985961914,\n",
              "  0.8409090638160706,\n",
              "  0.8333333134651184,\n",
              "  0.8484848737716675]}"
            ]
          },
          "metadata": {},
          "execution_count": 61
        }
      ]
    },
    {
      "cell_type": "code",
      "source": [
        "history.history.keys()"
      ],
      "metadata": {
        "id": "_8BI6pW_clpb",
        "colab": {
          "base_uri": "https://localhost:8080/"
        },
        "outputId": "2e995b5f-ae19-4c95-8adc-4b91d0378ece"
      },
      "execution_count": 62,
      "outputs": [
        {
          "output_type": "execute_result",
          "data": {
            "text/plain": [
              "dict_keys(['loss', 'accuracy', 'val_loss', 'val_accuracy'])"
            ]
          },
          "metadata": {},
          "execution_count": 62
        }
      ]
    },
    {
      "cell_type": "code",
      "source": [
        "# instanciando as métricas do modelo\n",
        "accuracy = history.history['accuracy']\n",
        "val_accuracy = history.history['val_accuracy']\n",
        "\n",
        "loss = history.history['loss']\n",
        "val_loss = history.history['val_loss']"
      ],
      "metadata": {
        "id": "iz1vQI2xRRu3"
      },
      "execution_count": 63,
      "outputs": []
    },
    {
      "cell_type": "code",
      "source": [
        "import matplotlib.pyplot as plt\n",
        "\n",
        "%matplotlib inline\n",
        "plt.style.use('fivethirtyeight')"
      ],
      "metadata": {
        "id": "i8NNmPV2BK3L"
      },
      "execution_count": 64,
      "outputs": []
    },
    {
      "cell_type": "code",
      "source": [
        "# plotando o gráfico \n",
        "plt.figure(figsize=(16, 9))\n",
        "\n",
        "plt.plot(range(EPOCHS), accuracy, 'r', label='Training Accuracy')\n",
        "plt.plot(range(EPOCHS), val_accuracy, 'orange', \n",
        "         label='Validation Accuracy')\n",
        "\n",
        "plt.plot(range(EPOCHS), loss, 'b', label='Training Loss')\n",
        "plt.plot(range(EPOCHS), val_loss, 'g', \n",
        "         label='Validation Loss')\n",
        "\n",
        "plt.legend(loc='best')    # lower left, lower right, upper left, upper rigth, best, center\n",
        "plt.gca().set_ylim(0, 1)\n",
        "plt.grid(True)\n",
        "\n",
        "plt.title('Training & Validation\\n', size=20)\n",
        "plt.xlabel('epochs', size=16)\n",
        "plt.ylabel('accuracy', size=16)\n",
        "plt.show();"
      ],
      "metadata": {
        "colab": {
          "base_uri": "https://localhost:8080/",
          "height": 635
        },
        "id": "rNVjTym4RRsJ",
        "outputId": "5952df87-a25c-4f02-8fc9-709bb5764255"
      },
      "execution_count": 65,
      "outputs": [
        {
          "output_type": "display_data",
          "data": {
            "text/plain": [
              "<Figure size 1152x648 with 1 Axes>"
            ],
            "image/png": "[encoded data removed]"
          },
          "metadata": {}
        }
      ]
    },
    {
      "cell_type": "code",
      "source": [
        "# visualizando as variáveis local do ambiente\n",
        "%whos"
      ],
      "metadata": {
        "colab": {
          "base_uri": "https://localhost:8080/"
        },
        "id": "x_Rm8RObAB4k",
        "outputId": "34920b73-b9fb-4657-dc16-016c63ec0a29"
      },
      "execution_count": 66,
      "outputs": [
        {
          "output_type": "stream",
          "name": "stdout",
          "text": [
            "Variable                 Type                               Data/Info\n",
            "---------------------------------------------------------------------\n",
            "CATEGORIES               dict                               n=5\n",
            "CSV_COLMUNS              list                               n=10\n",
            "DEFAULTS                 list                               n=5\n",
            "EPOCHS                   int                                30\n",
            "LABELS                   list                               n=2\n",
            "LABEL_COLUMN             str                                survived\n",
            "MEAN                     ndarray                            4: 4 elems, type `float64`, 32 bytes\n",
            "NUMERIC_FEATURES         list                               n=4\n",
            "PackNumericFeatures      type                               <class '__main__.PackNumericFeatures'>\n",
            "SELECT_COLUMNS           list                               n=5\n",
            "STD                      ndarray                            4: 4 elems, type `float64`, 32 bytes\n",
            "TEST_DATA_URL            str                                https://storage.googleapi<...>datasets/titanic/eval.csv\n",
            "TRAIN_DATA_URL           str                                https://storage.googleapi<...>atasets/titanic/train.csv\n",
            "absolute_import          _Feature                           _Feature((2, 5, 0, 'alpha<...>, 0, 'alpha', 0), 262144)\n",
            "accuracy                 list                               n=30\n",
            "cat_col                  VocabularyListCategoricalColumn    VocabularyListCategorical<...>ue=-1, num_oov_buckets=0)\n",
            "categorical_columns      list                               n=5\n",
            "categorical_layer        DenseFeatures                      <keras.feature_column.den<...>object at 0x7f0c682a53a0>\n",
            "desc                     DataFrame                                        age  n_sibl<...>0    5.000000  512.329200\n",
            "division                 _Feature                           _Feature((2, 2, 0, 'alpha<...>, 0, 'alpha', 0), 131072)\n",
            "example_batch            OrderedDict                        OrderedDict([('sex', <tf.<...>05 ]], dtype=float32)>)])\n",
            "feature                  str                                alone\n",
            "features                 EagerTensor                        tf.Tensor(\\n[[ 28.      3<...>=(100, 4), dtype=float32)\n",
            "functools                module                             <module 'functools' from <...>/python3.8/functools.py'>\n",
            "get_dataset              function                           <function get_dataset at 0x7f0c6a9b2a60>\n",
            "history                  History                            <keras.callbacks.History <...>object at 0x7f0c5871c820>\n",
            "labels                   EagerTensor                        tf.Tensor(\\n[0 0 1 1 0 0 <...>hape=(100,), dtype=int32)\n",
            "labels_batch             EagerTensor                        tf.Tensor(\\n[1 1 0 0 0 0 <...>hape=(100,), dtype=int32)\n",
            "loss                     list                               n=30\n",
            "model                    Sequential                         <keras.engine.sequential.<...>object at 0x7f0c682325b0>\n",
            "normalize_numeric_data   function                           <function normalize_numer<...>c_data at 0x7f0c682571f0>\n",
            "normalizer               partial                            functools.partial(<functi<...> 1.151,  0.793, 54.598]))\n",
            "np                       module                             <module 'numpy' from '/us<...>kages/numpy/__init__.py'>\n",
            "numeric_column           NumericColumn                      NumericColumn(key='numeri<...>1.151,  0.793, 54.598])))\n",
            "numeric_columns          list                               n=1\n",
            "numeric_layer            DenseFeatures                      <keras.feature_column.den<...>object at 0x7f0c68288400>\n",
            "pack                     function                           <function pack at 0x7f0c68344f70>\n",
            "packed_dataset           MapDataset                         <MapDataset element_spec=<...>pe=tf.int32, name=None))>\n",
            "packed_test_data         MapDataset                         <MapDataset element_spec=<...>pe=tf.int32, name=None))>\n",
            "packed_train_data        MapDataset                         <MapDataset element_spec=<...>pe=tf.int32, name=None))>\n",
            "pd                       module                             <module 'pandas' from '/u<...>ages/pandas/__init__.py'>\n",
            "plt                      module                             <module 'matplotlib.pyplo<...>es/matplotlib/pyplot.py'>\n",
            "prediction               ndarray                            1: 1 elems, type `float32`, 4 bytes\n",
            "predictions              ndarray                            264x1: 264 elems, type `float32`, 1056 bytes\n",
            "preprocessing_layer      DenseFeatures                      <keras.feature_column.den<...>object at 0x7f0c6832c850>\n",
            "print_function           _Feature                           _Feature((2, 6, 0, 'alpha<...> 0, 'alpha', 0), 1048576)\n",
            "raw_test_data            PrefetchDataset                    <PrefetchDataset element_<...>pe=tf.int32, name=None))>\n",
            "raw_train_data           PrefetchDataset                    <PrefetchDataset element_<...>pe=tf.int32, name=None))>\n",
            "show_batch               function                           <function show_batch at 0x7f0c683980d0>\n",
            "survived                 EagerTensor                        tf.Tensor(0, shape=(), dtype=int32)\n",
            "temp_dataset             PrefetchDataset                    <PrefetchDataset element_<...>pe=tf.int32, name=None))>\n",
            "test_accuracy            float                              0.8257575631141663\n",
            "test_data                MapDataset                         <MapDataset element_spec=<...>pe=tf.int32, name=None))>\n",
            "test_file_path           str                                /root/.keras/datasets/eval.csv\n",
            "test_loss                float                              0.43833836913108826\n",
            "tf                       module                             <module 'tensorflow' from<...>/tensorflow/__init__.py'>\n",
            "train_data               ShuffleDataset                     <ShuffleDataset element_s<...>pe=tf.int32, name=None))>\n",
            "train_file_path          str                                /root/.keras/datasets/train.csv\n",
            "unicode_literals         _Feature                           _Feature((2, 6, 0, 'alpha<...> 0, 'alpha', 0), 2097152)\n",
            "val_accuracy             list                               n=30\n",
            "val_loss                 list                               n=30\n",
            "vocab                    list                               n=2\n"
          ]
        }
      ]
    },
    {
      "cell_type": "code",
      "source": [
        "# visualizando as variáveis local do ambiente em formato de lista\n",
        "%who_ls"
      ],
      "metadata": {
        "colab": {
          "base_uri": "https://localhost:8080/"
        },
        "id": "rpgZFzuwAB29",
        "outputId": "01987de4-65b4-4ed2-cff5-550e2c492f71"
      },
      "execution_count": 67,
      "outputs": [
        {
          "output_type": "execute_result",
          "data": {
            "text/plain": [
              "['CATEGORIES',\n",
              " 'CSV_COLMUNS',\n",
              " 'DEFAULTS',\n",
              " 'EPOCHS',\n",
              " 'LABELS',\n",
              " 'LABEL_COLUMN',\n",
              " 'MEAN',\n",
              " 'NUMERIC_FEATURES',\n",
              " 'PackNumericFeatures',\n",
              " 'SELECT_COLUMNS',\n",
              " 'STD',\n",
              " 'TEST_DATA_URL',\n",
              " 'TRAIN_DATA_URL',\n",
              " 'absolute_import',\n",
              " 'accuracy',\n",
              " 'cat_col',\n",
              " 'categorical_columns',\n",
              " 'categorical_layer',\n",
              " 'desc',\n",
              " 'division',\n",
              " 'example_batch',\n",
              " 'feature',\n",
              " 'features',\n",
              " 'functools',\n",
              " 'get_dataset',\n",
              " 'history',\n",
              " 'labels',\n",
              " 'labels_batch',\n",
              " 'loss',\n",
              " 'model',\n",
              " 'normalize_numeric_data',\n",
              " 'normalizer',\n",
              " 'np',\n",
              " 'numeric_column',\n",
              " 'numeric_columns',\n",
              " 'numeric_layer',\n",
              " 'pack',\n",
              " 'packed_dataset',\n",
              " 'packed_test_data',\n",
              " 'packed_train_data',\n",
              " 'pd',\n",
              " 'plt',\n",
              " 'prediction',\n",
              " 'predictions',\n",
              " 'preprocessing_layer',\n",
              " 'print_function',\n",
              " 'raw_test_data',\n",
              " 'raw_train_data',\n",
              " 'show_batch',\n",
              " 'survived',\n",
              " 'temp_dataset',\n",
              " 'test_accuracy',\n",
              " 'test_data',\n",
              " 'test_file_path',\n",
              " 'test_loss',\n",
              " 'tf',\n",
              " 'train_data',\n",
              " 'train_file_path',\n",
              " 'unicode_literals',\n",
              " 'val_accuracy',\n",
              " 'val_loss',\n",
              " 'vocab']"
            ]
          },
          "metadata": {},
          "execution_count": 67
        }
      ]
    },
    {
      "cell_type": "code",
      "source": [],
      "metadata": {
        "id": "pp8qSASVAB1q"
      },
      "execution_count": 67,
      "outputs": []
    },
    {
      "cell_type": "code",
      "source": [],
      "metadata": {
        "id": "ROeY7a00ABxc"
      },
      "execution_count": 67,
      "outputs": []
    },
    {
      "cell_type": "code",
      "source": [],
      "metadata": {
        "id": "GAJTzAquABvI"
      },
      "execution_count": 67,
      "outputs": []
    }
  ]
}